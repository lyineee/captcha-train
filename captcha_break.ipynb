{
 "cells": [
  {
   "cell_type": "markdown",
   "metadata": {},
   "source": [
    "# 导入必要的库\n",
    "\n",
    "我们需要导入一个叫 [captcha](https://github.com/lepture/captcha/) 的库来生成验证码。\n",
    "\n",
    "我们生成验证码的字符由数字和大写字母组成。\n",
    "\n",
    "```sh\n",
    "pip install captcha numpy matplotlib tensorflow-gpu\n",
    "```"
   ]
  },
  {
   "cell_type": "code",
   "execution_count": 1,
   "metadata": {
    "ExecuteTime": {
     "end_time": "2019-06-16T06:50:53.934028Z",
     "start_time": "2019-06-16T06:50:53.690430Z"
    }
   },
   "outputs": [
    {
     "name": "stdout",
     "output_type": "stream",
     "text": [
      "0123456789\n"
     ]
    }
   ],
   "source": [
    "from captcha.image import ImageCaptcha\n",
    "import matplotlib.pyplot as plt\n",
    "import numpy as np\n",
    "import random\n",
    "\n",
    "%matplotlib inline\n",
    "%config InlineBackend.figure_format = 'retina'\n",
    "\n",
    "import string\n",
    "# characters = string.digits + string.ascii_uppercase\n",
    "characters = string.digits #只有数字\n",
    "\n",
    "print(characters)\n",
    "\n",
    "width, height, n_len, n_class = 109, 41, 5, len(characters)"
   ]
  },
  {
   "cell_type": "markdown",
   "metadata": {
    "ExecuteTime": {
     "end_time": "2019-06-15T16:05:54.140766Z",
     "start_time": "2019-06-15T16:05:54.137935Z"
    }
   },
   "source": [
    "# 防止 tensorflow 占用所有显存"
   ]
  },
  {
   "cell_type": "code",
   "execution_count": 2,
   "metadata": {
    "ExecuteTime": {
     "end_time": "2019-06-16T06:50:55.074201Z",
     "start_time": "2019-06-16T06:50:53.935176Z"
    }
   },
   "outputs": [],
   "source": [
    "import tensorflow as tf\n",
    "import tensorflow.keras.backend as K\n"
   ]
  },
  {
   "cell_type": "markdown",
   "metadata": {},
   "source": [
    "# 定义数据生成器"
   ]
  },
  {
   "cell_type": "code",
   "execution_count": null,
   "metadata": {},
   "outputs": [],
   "source": []
  },
  {
   "cell_type": "code",
   "execution_count": 3,
   "metadata": {
    "ExecuteTime": {
     "end_time": "2019-06-16T06:50:55.086492Z",
     "start_time": "2019-06-16T06:50:55.077459Z"
    },
    "code_folding": []
   },
   "outputs": [],
   "source": [
    "from tensorflow.keras.utils import Sequence\n",
    "\n",
    "class CaptchaSequence(Sequence):\n",
    "    def __init__(self, characters, batch_size, steps, n_len=5, width=109, height=41):\n",
    "        self.characters = characters\n",
    "        self.batch_size = batch_size\n",
    "        self.steps = steps\n",
    "        self.n_len = n_len\n",
    "        self.width = width\n",
    "        self.height = height\n",
    "        self.n_class = len(characters)\n",
    "        self.generator = ImageCaptcha(width=width, height=height)\n",
    "    \n",
    "    def __len__(self):\n",
    "        return self.steps\n",
    "\n",
    "    def __getitem__(self, idx):\n",
    "        X = np.zeros((self.batch_size, self.height, self.width, 3), dtype=np.float32)\n",
    "        y = [np.zeros((self.batch_size, self.n_class), dtype=np.uint8) for i in range(self.n_len)]\n",
    "        for i in range(self.batch_size):\n",
    "            random_str = ''.join([random.choice(self.characters) for j in range(self.n_len)])\n",
    "            X[i] = np.array(self.generator.generate_image(random_str)) / 255.0 #NNNNNN\n",
    "            for j, ch in enumerate(random_str):\n",
    "                y[j][i, :] = 0\n",
    "                y[j][i, self.characters.find(ch)] = 1\n",
    "        return X, y"
   ]
  },
  {
   "cell_type": "markdown",
   "metadata": {},
   "source": [
    "# 测试生成器"
   ]
  },
  {
   "cell_type": "markdown",
   "metadata": {},
   "source": [
    "# 读取数据"
   ]
  },
  {
   "cell_type": "code",
   "execution_count": 4,
   "metadata": {},
   "outputs": [
    {
     "name": "stdout",
     "output_type": "stream",
     "text": [
      "(203, 10)\n",
      "(203, 10)\n",
      "(203, 41, 109, 3)\n",
      "65676\n"
     ]
    },
    {
     "data": {
      "image/png": "[encoded data removed]",
      "text/plain": [
       "<Figure size 432x288 with 1 Axes>"
      ]
     },
     "metadata": {
      "image/png": {
       "height": 159,
       "width": 369
      },
      "needs_background": "light"
     },
     "output_type": "display_data"
    }
   ],
   "source": [
    "import os\n",
    "import cv2\n",
    "import numpy as np\n",
    "from tensorflow.keras import utils\n",
    "def decode(y):\n",
    "    y = np.argmax(np.array(y), axis=2)[:,0]\n",
    "    return ''.join([characters[x] for x in y])\n",
    "for root, dirs, files in os.walk('./data'):\n",
    "    file_list=files\n",
    "sam=cv2.imread('./data/'+file_list[0])\n",
    "X=np.zeros((len(file_list),41,109,3))\n",
    "# y = np.zeros((len(file_list),5,10))\n",
    "y = [np.zeros((len(file_list), 10), dtype=np.uint8) for i in range(5)]\n",
    "print(y[0].shape)\n",
    "for i,name in enumerate(file_list):\n",
    "    #label\n",
    "    label=os.path.splitext(name)[0].split('_')[-1]\n",
    "    y_proto=[k for k in label]\n",
    "    y_each=utils.to_categorical(y_proto,num_classes=10)\n",
    "    for index,k in enumerate(y_each):\n",
    "        y[index][i]=k\n",
    "    #data\n",
    "    im=cv2.imread('./data/'+name)\n",
    "    im=cv2.resize(im,(109,41))\n",
    "    X[i]=im/255\n",
    "\n",
    "print(y[0].shape)\n",
    "print(X.shape)\n",
    "plt.imshow(X[0])\n",
    "print(decode(y))"
   ]
  },
  {
   "cell_type": "markdown",
   "metadata": {},
   "source": [
    "# 定义网络结构"
   ]
  },
  {
   "cell_type": "code",
   "execution_count": 179,
   "metadata": {
    "ExecuteTime": {
     "end_time": "2019-06-16T06:50:55.858663Z",
     "start_time": "2019-06-16T06:50:55.271265Z"
    }
   },
   "outputs": [],
   "source": [
    "from tensorflow.keras.models import *\n",
    "from tensorflow.keras.layers import *\n",
    "\n",
    "input_tensor = Input((height, width, 3))\n",
    "x = input_tensor\n",
    "for i, n_cnn in enumerate([2, 2, 2, 2, 2]):\n",
    "    for j in range(n_cnn):\n",
    "        x = Conv2D(32*2**min(i, 3), kernel_size=3, padding='same', kernel_initializer='he_uniform')(x)\n",
    "        x = BatchNormalization()(x)\n",
    "        x = Activation('relu')(x)\n",
    "    x = MaxPooling2D(2)(x)\n",
    "\n",
    "x = Flatten()(x)\n",
    "x = [Dense(n_class, activation='softmax', name='c%d'%(i+1))(x) for i in range(n_len)]\n",
    "model = Model(inputs=input_tensor, outputs=x)"
   ]
  },
  {
   "cell_type": "code",
   "execution_count": 83,
   "metadata": {
    "ExecuteTime": {
     "end_time": "2019-06-16T06:50:56.164154Z",
     "start_time": "2019-06-16T06:50:56.145970Z"
    }
   },
   "outputs": [
    {
     "name": "stdout",
     "output_type": "stream",
     "text": [
      "__________________________________________________________________________________________________\n",
      "Layer (type)                    Output Shape         Param #     Connected to                     \n",
      "==================================================================================================\n",
      "input_1 (InputLayer)            (None, 41, 109, 3)   0                                            \n",
      "__________________________________________________________________________________________________\n",
      "conv2d (Conv2D)                 (None, 41, 109, 32)  896         input_1[0][0]                    \n",
      "__________________________________________________________________________________________________\n",
      "batch_normalization (BatchNorma (None, 41, 109, 32)  128         conv2d[0][0]                     \n",
      "__________________________________________________________________________________________________\n",
      "activation (Activation)         (None, 41, 109, 32)  0           batch_normalization[0][0]        \n",
      "__________________________________________________________________________________________________\n",
      "conv2d_1 (Conv2D)               (None, 41, 109, 32)  9248        activation[0][0]                 \n",
      "__________________________________________________________________________________________________\n",
      "batch_normalization_1 (BatchNor (None, 41, 109, 32)  128         conv2d_1[0][0]                   \n",
      "__________________________________________________________________________________________________\n",
      "activation_1 (Activation)       (None, 41, 109, 32)  0           batch_normalization_1[0][0]      \n",
      "__________________________________________________________________________________________________\n",
      "max_pooling2d (MaxPooling2D)    (None, 20, 54, 32)   0           activation_1[0][0]               \n",
      "__________________________________________________________________________________________________\n",
      "conv2d_2 (Conv2D)               (None, 20, 54, 64)   18496       max_pooling2d[0][0]              \n",
      "__________________________________________________________________________________________________\n",
      "batch_normalization_2 (BatchNor (None, 20, 54, 64)   256         conv2d_2[0][0]                   \n",
      "__________________________________________________________________________________________________\n",
      "activation_2 (Activation)       (None, 20, 54, 64)   0           batch_normalization_2[0][0]      \n",
      "__________________________________________________________________________________________________\n",
      "conv2d_3 (Conv2D)               (None, 20, 54, 64)   36928       activation_2[0][0]               \n",
      "__________________________________________________________________________________________________\n",
      "batch_normalization_3 (BatchNor (None, 20, 54, 64)   256         conv2d_3[0][0]                   \n",
      "__________________________________________________________________________________________________\n",
      "activation_3 (Activation)       (None, 20, 54, 64)   0           batch_normalization_3[0][0]      \n",
      "__________________________________________________________________________________________________\n",
      "max_pooling2d_1 (MaxPooling2D)  (None, 10, 27, 64)   0           activation_3[0][0]               \n",
      "__________________________________________________________________________________________________\n",
      "conv2d_4 (Conv2D)               (None, 10, 27, 128)  73856       max_pooling2d_1[0][0]            \n",
      "__________________________________________________________________________________________________\n",
      "batch_normalization_4 (BatchNor (None, 10, 27, 128)  512         conv2d_4[0][0]                   \n",
      "__________________________________________________________________________________________________\n",
      "activation_4 (Activation)       (None, 10, 27, 128)  0           batch_normalization_4[0][0]      \n",
      "__________________________________________________________________________________________________\n",
      "conv2d_5 (Conv2D)               (None, 10, 27, 128)  147584      activation_4[0][0]               \n",
      "__________________________________________________________________________________________________\n",
      "batch_normalization_5 (BatchNor (None, 10, 27, 128)  512         conv2d_5[0][0]                   \n",
      "__________________________________________________________________________________________________\n",
      "activation_5 (Activation)       (None, 10, 27, 128)  0           batch_normalization_5[0][0]      \n",
      "__________________________________________________________________________________________________\n",
      "max_pooling2d_2 (MaxPooling2D)  (None, 5, 13, 128)   0           activation_5[0][0]               \n",
      "__________________________________________________________________________________________________\n",
      "conv2d_6 (Conv2D)               (None, 5, 13, 256)   295168      max_pooling2d_2[0][0]            \n",
      "__________________________________________________________________________________________________\n",
      "batch_normalization_6 (BatchNor (None, 5, 13, 256)   1024        conv2d_6[0][0]                   \n",
      "__________________________________________________________________________________________________\n",
      "activation_6 (Activation)       (None, 5, 13, 256)   0           batch_normalization_6[0][0]      \n",
      "__________________________________________________________________________________________________\n",
      "conv2d_7 (Conv2D)               (None, 5, 13, 256)   590080      activation_6[0][0]               \n",
      "__________________________________________________________________________________________________\n",
      "batch_normalization_7 (BatchNor (None, 5, 13, 256)   1024        conv2d_7[0][0]                   \n",
      "__________________________________________________________________________________________________\n",
      "activation_7 (Activation)       (None, 5, 13, 256)   0           batch_normalization_7[0][0]      \n",
      "__________________________________________________________________________________________________\n",
      "max_pooling2d_3 (MaxPooling2D)  (None, 2, 6, 256)    0           activation_7[0][0]               \n",
      "__________________________________________________________________________________________________\n",
      "conv2d_8 (Conv2D)               (None, 2, 6, 256)    590080      max_pooling2d_3[0][0]            \n",
      "__________________________________________________________________________________________________\n",
      "batch_normalization_8 (BatchNor (None, 2, 6, 256)    1024        conv2d_8[0][0]                   \n",
      "__________________________________________________________________________________________________\n",
      "activation_8 (Activation)       (None, 2, 6, 256)    0           batch_normalization_8[0][0]      \n",
      "__________________________________________________________________________________________________\n",
      "conv2d_9 (Conv2D)               (None, 2, 6, 256)    590080      activation_8[0][0]               \n",
      "__________________________________________________________________________________________________\n",
      "batch_normalization_9 (BatchNor (None, 2, 6, 256)    1024        conv2d_9[0][0]                   \n",
      "__________________________________________________________________________________________________\n",
      "activation_9 (Activation)       (None, 2, 6, 256)    0           batch_normalization_9[0][0]      \n",
      "__________________________________________________________________________________________________\n",
      "max_pooling2d_4 (MaxPooling2D)  (None, 1, 3, 256)    0           activation_9[0][0]               \n",
      "__________________________________________________________________________________________________\n",
      "flatten (Flatten)               (None, 768)          0           max_pooling2d_4[0][0]            \n",
      "__________________________________________________________________________________________________\n",
      "c1 (Dense)                      (None, 10)           7690        flatten[0][0]                    \n",
      "__________________________________________________________________________________________________\n",
      "c2 (Dense)                      (None, 10)           7690        flatten[0][0]                    \n",
      "__________________________________________________________________________________________________\n",
      "c3 (Dense)                      (None, 10)           7690        flatten[0][0]                    \n",
      "__________________________________________________________________________________________________\n",
      "c4 (Dense)                      (None, 10)           7690        flatten[0][0]                    \n",
      "__________________________________________________________________________________________________\n",
      "c5 (Dense)                      (None, 10)           7690        flatten[0][0]                    \n",
      "==================================================================================================\n",
      "Total params: 2,396,754\n",
      "Trainable params: 2,393,810\n",
      "Non-trainable params: 2,944\n",
      "__________________________________________________________________________________________________\n"
     ]
    }
   ],
   "source": [
    "model.summary()"
   ]
  },
  {
   "cell_type": "markdown",
   "metadata": {},
   "source": [
    "# 训练模型"
   ]
  },
  {
   "cell_type": "code",
   "execution_count": 180,
   "metadata": {
    "ExecuteTime": {
     "end_time": "2019-06-16T07:23:32.907096Z",
     "start_time": "2019-06-16T06:50:56.167239Z"
    },
    "scrolled": false
   },
   "outputs": [],
   "source": [
    "from tensorflow.keras.callbacks import EarlyStopping, CSVLogger, ModelCheckpoint\n",
    "from tensorflow.keras.optimizers import *\n",
    "\n",
    "train_data = CaptchaSequence(characters, batch_size=128, steps=500)\n",
    "valid_data = CaptchaSequence(characters, batch_size=128, steps=50)\n",
    "callbacks = [EarlyStopping(patience=3), CSVLogger('cnn.csv'), ModelCheckpoint('cnn_best.h5', save_best_only=True)]\n",
    "\n",
    "# model.compile(loss='categorical_crossentropy',\n",
    "#               optimizer=Adam(1e-3, amsgrad=True), \n",
    "#               metrics=['accuracy'])\n",
    "model.compile(loss='categorical_crossentropy',\n",
    "              optimizer='adam',\n",
    "              metrics=['accuracy'])"
   ]
  },
  {
   "cell_type": "code",
   "execution_count": 181,
   "metadata": {},
   "outputs": [
    {
     "name": "stdout",
     "output_type": "stream",
     "text": [
      "Train on 181 samples, validate on 21 samples\n",
      "Epoch 1/70\n",
      "181/181 [==============================] - 4s 24ms/step - loss: 11.9979 - c1_loss: 2.5959 - c2_loss: 2.2051 - c3_loss: 2.1380 - c4_loss: 2.5467 - c5_loss: 2.5123 - c1_acc: 0.1989 - c2_acc: 0.1823 - c3_acc: 0.2431 - c4_acc: 0.2873 - c5_acc: 0.1713 - val_loss: 31.9075 - val_c1_loss: 8.4559 - val_c2_loss: 6.8891 - val_c3_loss: 5.8583 - val_c4_loss: 6.2763 - val_c5_loss: 4.4279 - val_c1_acc: 0.1429 - val_c2_acc: 0.1905 - val_c3_acc: 0.0952 - val_c4_acc: 0.0952 - val_c5_acc: 0.0952\n",
      "Epoch 2/70\n",
      "181/181 [==============================] - 0s 2ms/step - loss: 7.3883 - c1_loss: 1.4930 - c2_loss: 1.4959 - c3_loss: 1.2804 - c4_loss: 1.3945 - c5_loss: 1.7244 - c1_acc: 0.4862 - c2_acc: 0.4033 - c3_acc: 0.5470 - c4_acc: 0.5083 - c5_acc: 0.3591 - val_loss: 40.4912 - val_c1_loss: 10.4865 - val_c2_loss: 10.6666 - val_c3_loss: 5.9714 - val_c4_loss: 8.1794 - val_c5_loss: 5.1873 - val_c1_acc: 0.1429 - val_c2_acc: 0.1905 - val_c3_acc: 0.1905 - val_c4_acc: 0.0952 - val_c5_acc: 0.1429\n",
      "Epoch 3/70\n",
      "181/181 [==============================] - 0s 2ms/step - loss: 5.0030 - c1_loss: 0.9186 - c2_loss: 0.9933 - c3_loss: 0.8301 - c4_loss: 0.9220 - c5_loss: 1.3390 - c1_acc: 0.7459 - c2_acc: 0.6961 - c3_acc: 0.7569 - c4_acc: 0.7459 - c5_acc: 0.5304 - val_loss: 24.3602 - val_c1_loss: 6.8733 - val_c2_loss: 6.5120 - val_c3_loss: 3.7609 - val_c4_loss: 4.9875 - val_c5_loss: 2.2265 - val_c1_acc: 0.1429 - val_c2_acc: 0.1905 - val_c3_acc: 0.1429 - val_c4_acc: 0.0952 - val_c5_acc: 0.1429\n",
      "Epoch 4/70\n",
      "181/181 [==============================] - 0s 2ms/step - loss: 2.7580 - c1_loss: 0.5124 - c2_loss: 0.5132 - c3_loss: 0.4509 - c4_loss: 0.5033 - c5_loss: 0.7781 - c1_acc: 0.8674 - c2_acc: 0.9116 - c3_acc: 0.9061 - c4_acc: 0.9227 - c5_acc: 0.8232 - val_loss: 13.3185 - val_c1_loss: 3.0097 - val_c2_loss: 2.4908 - val_c3_loss: 2.7206 - val_c4_loss: 3.1815 - val_c5_loss: 1.9159 - val_c1_acc: 0.1429 - val_c2_acc: 0.1905 - val_c3_acc: 0.1429 - val_c4_acc: 0.0952 - val_c5_acc: 0.2381\n",
      "Epoch 5/70\n",
      "181/181 [==============================] - 0s 2ms/step - loss: 1.2024 - c1_loss: 0.2100 - c2_loss: 0.1895 - c3_loss: 0.1666 - c4_loss: 0.2145 - c5_loss: 0.4219 - c1_acc: 0.9890 - c2_acc: 0.9890 - c3_acc: 0.9945 - c4_acc: 0.9724 - c5_acc: 0.9282 - val_loss: 10.3874 - val_c1_loss: 2.1774 - val_c2_loss: 2.0776 - val_c3_loss: 2.0864 - val_c4_loss: 2.1194 - val_c5_loss: 1.9267 - val_c1_acc: 0.0952 - val_c2_acc: 0.0476 - val_c3_acc: 0.1429 - val_c4_acc: 0.0952 - val_c5_acc: 0.2381\n",
      "Epoch 6/70\n",
      "181/181 [==============================] - 0s 2ms/step - loss: 0.4399 - c1_loss: 0.0699 - c2_loss: 0.0735 - c3_loss: 0.0679 - c4_loss: 0.0860 - c5_loss: 0.1426 - c1_acc: 0.9945 - c2_acc: 1.0000 - c3_acc: 1.0000 - c4_acc: 1.0000 - c5_acc: 0.9945 - val_loss: 10.0764 - val_c1_loss: 2.1029 - val_c2_loss: 2.0329 - val_c3_loss: 1.9256 - val_c4_loss: 2.0255 - val_c5_loss: 1.9895 - val_c1_acc: 0.0952 - val_c2_acc: 0.1905 - val_c3_acc: 0.2381 - val_c4_acc: 0.0476 - val_c5_acc: 0.1905\n",
      "Epoch 7/70\n",
      "181/181 [==============================] - 0s 2ms/step - loss: 0.1672 - c1_loss: 0.0282 - c2_loss: 0.0341 - c3_loss: 0.0231 - c4_loss: 0.0309 - c5_loss: 0.0511 - c1_acc: 1.0000 - c2_acc: 1.0000 - c3_acc: 1.0000 - c4_acc: 1.0000 - c5_acc: 1.0000 - val_loss: 10.3836 - val_c1_loss: 2.1096 - val_c2_loss: 2.1590 - val_c3_loss: 1.9580 - val_c4_loss: 2.1132 - val_c5_loss: 2.0438 - val_c1_acc: 0.0952 - val_c2_acc: 0.2381 - val_c3_acc: 0.2381 - val_c4_acc: 0.0476 - val_c5_acc: 0.1429\n",
      "Epoch 8/70\n",
      "181/181 [==============================] - 0s 2ms/step - loss: 0.0782 - c1_loss: 0.0144 - c2_loss: 0.0173 - c3_loss: 0.0136 - c4_loss: 0.0141 - c5_loss: 0.0188 - c1_acc: 1.0000 - c2_acc: 1.0000 - c3_acc: 1.0000 - c4_acc: 1.0000 - c5_acc: 1.0000 - val_loss: 10.8065 - val_c1_loss: 2.1756 - val_c2_loss: 2.2628 - val_c3_loss: 2.0459 - val_c4_loss: 2.2478 - val_c5_loss: 2.0744 - val_c1_acc: 0.0952 - val_c2_acc: 0.1905 - val_c3_acc: 0.2381 - val_c4_acc: 0.0476 - val_c5_acc: 0.1905\n",
      "Epoch 9/70\n",
      "181/181 [==============================] - 0s 2ms/step - loss: 0.0436 - c1_loss: 0.0084 - c2_loss: 0.0093 - c3_loss: 0.0073 - c4_loss: 0.0082 - c5_loss: 0.0104 - c1_acc: 1.0000 - c2_acc: 1.0000 - c3_acc: 1.0000 - c4_acc: 1.0000 - c5_acc: 1.0000 - val_loss: 11.3282 - val_c1_loss: 2.3507 - val_c2_loss: 2.3052 - val_c3_loss: 2.1287 - val_c4_loss: 2.3907 - val_c5_loss: 2.1528 - val_c1_acc: 0.0952 - val_c2_acc: 0.1429 - val_c3_acc: 0.2381 - val_c4_acc: 0.0476 - val_c5_acc: 0.1429\n",
      "Epoch 10/70\n",
      "181/181 [==============================] - 0s 2ms/step - loss: 0.0281 - c1_loss: 0.0055 - c2_loss: 0.0059 - c3_loss: 0.0049 - c4_loss: 0.0057 - c5_loss: 0.0061 - c1_acc: 1.0000 - c2_acc: 1.0000 - c3_acc: 1.0000 - c4_acc: 1.0000 - c5_acc: 1.0000 - val_loss: 11.7851 - val_c1_loss: 2.5096 - val_c2_loss: 2.3315 - val_c3_loss: 2.2278 - val_c4_loss: 2.5055 - val_c5_loss: 2.2108 - val_c1_acc: 0.0952 - val_c2_acc: 0.1429 - val_c3_acc: 0.2381 - val_c4_acc: 0.0476 - val_c5_acc: 0.1429\n",
      "Epoch 11/70\n",
      "181/181 [==============================] - 0s 2ms/step - loss: 0.0211 - c1_loss: 0.0041 - c2_loss: 0.0042 - c3_loss: 0.0038 - c4_loss: 0.0044 - c5_loss: 0.0047 - c1_acc: 1.0000 - c2_acc: 1.0000 - c3_acc: 1.0000 - c4_acc: 1.0000 - c5_acc: 1.0000 - val_loss: 12.2382 - val_c1_loss: 2.6527 - val_c2_loss: 2.3792 - val_c3_loss: 2.3412 - val_c4_loss: 2.5959 - val_c5_loss: 2.2692 - val_c1_acc: 0.0952 - val_c2_acc: 0.1429 - val_c3_acc: 0.2381 - val_c4_acc: 0.0476 - val_c5_acc: 0.0952\n",
      "Epoch 12/70\n",
      "181/181 [==============================] - 0s 2ms/step - loss: 0.0158 - c1_loss: 0.0030 - c2_loss: 0.0031 - c3_loss: 0.0029 - c4_loss: 0.0033 - c5_loss: 0.0035 - c1_acc: 1.0000 - c2_acc: 1.0000 - c3_acc: 1.0000 - c4_acc: 1.0000 - c5_acc: 1.0000 - val_loss: 12.7129 - val_c1_loss: 2.7901 - val_c2_loss: 2.4447 - val_c3_loss: 2.4465 - val_c4_loss: 2.6959 - val_c5_loss: 2.3358 - val_c1_acc: 0.0952 - val_c2_acc: 0.1429 - val_c3_acc: 0.2381 - val_c4_acc: 0.0476 - val_c5_acc: 0.0952\n",
      "Epoch 13/70\n",
      "181/181 [==============================] - 0s 2ms/step - loss: 0.0122 - c1_loss: 0.0024 - c2_loss: 0.0024 - c3_loss: 0.0023 - c4_loss: 0.0024 - c5_loss: 0.0027 - c1_acc: 1.0000 - c2_acc: 1.0000 - c3_acc: 1.0000 - c4_acc: 1.0000 - c5_acc: 1.0000 - val_loss: 13.1610 - val_c1_loss: 2.9178 - val_c2_loss: 2.5304 - val_c3_loss: 2.5262 - val_c4_loss: 2.7849 - val_c5_loss: 2.4017 - val_c1_acc: 0.0952 - val_c2_acc: 0.1429 - val_c3_acc: 0.2381 - val_c4_acc: 0.0476 - val_c5_acc: 0.0952\n",
      "Epoch 14/70\n",
      "181/181 [==============================] - 0s 2ms/step - loss: 0.0107 - c1_loss: 0.0020 - c2_loss: 0.0022 - c3_loss: 0.0020 - c4_loss: 0.0021 - c5_loss: 0.0024 - c1_acc: 1.0000 - c2_acc: 1.0000 - c3_acc: 1.0000 - c4_acc: 1.0000 - c5_acc: 1.0000 - val_loss: 13.5907 - val_c1_loss: 3.0569 - val_c2_loss: 2.6360 - val_c3_loss: 2.5583 - val_c4_loss: 2.8664 - val_c5_loss: 2.4731 - val_c1_acc: 0.0952 - val_c2_acc: 0.1429 - val_c3_acc: 0.2381 - val_c4_acc: 0.0476 - val_c5_acc: 0.0952\n",
      "Epoch 15/70\n",
      "181/181 [==============================] - 0s 2ms/step - loss: 0.0096 - c1_loss: 0.0018 - c2_loss: 0.0019 - c3_loss: 0.0019 - c4_loss: 0.0018 - c5_loss: 0.0022 - c1_acc: 1.0000 - c2_acc: 1.0000 - c3_acc: 1.0000 - c4_acc: 1.0000 - c5_acc: 1.0000 - val_loss: 13.9908 - val_c1_loss: 3.1918 - val_c2_loss: 2.7492 - val_c3_loss: 2.5814 - val_c4_loss: 2.9362 - val_c5_loss: 2.5322 - val_c1_acc: 0.0952 - val_c2_acc: 0.1429 - val_c3_acc: 0.2381 - val_c4_acc: 0.0476 - val_c5_acc: 0.0952\n",
      "Epoch 16/70\n",
      "181/181 [==============================] - 0s 2ms/step - loss: 0.0086 - c1_loss: 0.0015 - c2_loss: 0.0017 - c3_loss: 0.0017 - c4_loss: 0.0017 - c5_loss: 0.0020 - c1_acc: 1.0000 - c2_acc: 1.0000 - c3_acc: 1.0000 - c4_acc: 1.0000 - c5_acc: 1.0000 - val_loss: 14.3507 - val_c1_loss: 3.3343 - val_c2_loss: 2.8361 - val_c3_loss: 2.6219 - val_c4_loss: 2.9800 - val_c5_loss: 2.5785 - val_c1_acc: 0.0952 - val_c2_acc: 0.1429 - val_c3_acc: 0.2381 - val_c4_acc: 0.0476 - val_c5_acc: 0.0952\n",
      "Epoch 17/70\n",
      "181/181 [==============================] - 0s 2ms/step - loss: 0.0079 - c1_loss: 0.0014 - c2_loss: 0.0015 - c3_loss: 0.0016 - c4_loss: 0.0017 - c5_loss: 0.0018 - c1_acc: 1.0000 - c2_acc: 1.0000 - c3_acc: 1.0000 - c4_acc: 1.0000 - c5_acc: 1.0000 - val_loss: 14.7146 - val_c1_loss: 3.4637 - val_c2_loss: 2.9244 - val_c3_loss: 2.6660 - val_c4_loss: 3.0332 - val_c5_loss: 2.6275 - val_c1_acc: 0.0952 - val_c2_acc: 0.1429 - val_c3_acc: 0.2381 - val_c4_acc: 0.0476 - val_c5_acc: 0.0952\n"
     ]
    },
    {
     "name": "stdout",
     "output_type": "stream",
     "text": [
      "Epoch 18/70\n",
      "181/181 [==============================] - 0s 2ms/step - loss: 0.0073 - c1_loss: 0.0013 - c2_loss: 0.0014 - c3_loss: 0.0014 - c4_loss: 0.0015 - c5_loss: 0.0017 - c1_acc: 1.0000 - c2_acc: 1.0000 - c3_acc: 1.0000 - c4_acc: 1.0000 - c5_acc: 1.0000 - val_loss: 15.0220 - val_c1_loss: 3.5601 - val_c2_loss: 3.0003 - val_c3_loss: 2.6940 - val_c4_loss: 3.0995 - val_c5_loss: 2.6681 - val_c1_acc: 0.0952 - val_c2_acc: 0.1429 - val_c3_acc: 0.2381 - val_c4_acc: 0.0476 - val_c5_acc: 0.0952\n",
      "Epoch 19/70\n",
      "181/181 [==============================] - 0s 2ms/step - loss: 0.0067 - c1_loss: 0.0013 - c2_loss: 0.0014 - c3_loss: 0.0012 - c4_loss: 0.0013 - c5_loss: 0.0015 - c1_acc: 1.0000 - c2_acc: 1.0000 - c3_acc: 1.0000 - c4_acc: 1.0000 - c5_acc: 1.0000 - val_loss: 15.2809 - val_c1_loss: 3.6261 - val_c2_loss: 3.0534 - val_c3_loss: 2.7249 - val_c4_loss: 3.1516 - val_c5_loss: 2.7250 - val_c1_acc: 0.0952 - val_c2_acc: 0.1429 - val_c3_acc: 0.2381 - val_c4_acc: 0.0476 - val_c5_acc: 0.0952\n",
      "Epoch 20/70\n",
      "181/181 [==============================] - 0s 2ms/step - loss: 0.0064 - c1_loss: 0.0011 - c2_loss: 0.0013 - c3_loss: 0.0012 - c4_loss: 0.0013 - c5_loss: 0.0014 - c1_acc: 1.0000 - c2_acc: 1.0000 - c3_acc: 1.0000 - c4_acc: 1.0000 - c5_acc: 1.0000 - val_loss: 15.4774 - val_c1_loss: 3.6652 - val_c2_loss: 3.1049 - val_c3_loss: 2.7527 - val_c4_loss: 3.1828 - val_c5_loss: 2.7719 - val_c1_acc: 0.0952 - val_c2_acc: 0.1429 - val_c3_acc: 0.2381 - val_c4_acc: 0.0476 - val_c5_acc: 0.0952\n",
      "Epoch 21/70\n",
      "181/181 [==============================] - 0s 2ms/step - loss: 0.0062 - c1_loss: 0.0011 - c2_loss: 0.0013 - c3_loss: 0.0012 - c4_loss: 0.0012 - c5_loss: 0.0014 - c1_acc: 1.0000 - c2_acc: 1.0000 - c3_acc: 1.0000 - c4_acc: 1.0000 - c5_acc: 1.0000 - val_loss: 15.5758 - val_c1_loss: 3.6901 - val_c2_loss: 3.1341 - val_c3_loss: 2.7698 - val_c4_loss: 3.1794 - val_c5_loss: 2.8023 - val_c1_acc: 0.0952 - val_c2_acc: 0.1429 - val_c3_acc: 0.2381 - val_c4_acc: 0.0476 - val_c5_acc: 0.1429\n",
      "Epoch 22/70\n",
      "181/181 [==============================] - 0s 2ms/step - loss: 0.0058 - c1_loss: 0.0010 - c2_loss: 0.0012 - c3_loss: 0.0011 - c4_loss: 0.0012 - c5_loss: 0.0013 - c1_acc: 1.0000 - c2_acc: 1.0000 - c3_acc: 1.0000 - c4_acc: 1.0000 - c5_acc: 1.0000 - val_loss: 15.5894 - val_c1_loss: 3.6917 - val_c2_loss: 3.1408 - val_c3_loss: 2.7641 - val_c4_loss: 3.1599 - val_c5_loss: 2.8330 - val_c1_acc: 0.0952 - val_c2_acc: 0.1429 - val_c3_acc: 0.2381 - val_c4_acc: 0.0476 - val_c5_acc: 0.1429\n",
      "Epoch 23/70\n",
      "181/181 [==============================] - 0s 2ms/step - loss: 0.0052 - c1_loss: 9.8568e-04 - c2_loss: 0.0011 - c3_loss: 9.2866e-04 - c4_loss: 0.0010 - c5_loss: 0.0012 - c1_acc: 1.0000 - c2_acc: 1.0000 - c3_acc: 1.0000 - c4_acc: 1.0000 - c5_acc: 1.0000 - val_loss: 15.5434 - val_c1_loss: 3.6854 - val_c2_loss: 3.1296 - val_c3_loss: 2.7441 - val_c4_loss: 3.1346 - val_c5_loss: 2.8498 - val_c1_acc: 0.0952 - val_c2_acc: 0.1429 - val_c3_acc: 0.2381 - val_c4_acc: 0.0476 - val_c5_acc: 0.1429\n",
      "Epoch 24/70\n",
      "181/181 [==============================] - 0s 2ms/step - loss: 0.0052 - c1_loss: 9.4833e-04 - c2_loss: 0.0010 - c3_loss: 9.6842e-04 - c4_loss: 0.0010 - c5_loss: 0.0013 - c1_acc: 1.0000 - c2_acc: 1.0000 - c3_acc: 1.0000 - c4_acc: 1.0000 - c5_acc: 1.0000 - val_loss: 15.4425 - val_c1_loss: 3.6523 - val_c2_loss: 3.1048 - val_c3_loss: 2.7252 - val_c4_loss: 3.1064 - val_c5_loss: 2.8537 - val_c1_acc: 0.0952 - val_c2_acc: 0.1429 - val_c3_acc: 0.2381 - val_c4_acc: 0.0476 - val_c5_acc: 0.1905\n",
      "Epoch 25/70\n",
      "181/181 [==============================] - 0s 2ms/step - loss: 0.0049 - c1_loss: 9.3491e-04 - c2_loss: 9.6996e-04 - c3_loss: 8.9735e-04 - c4_loss: 9.9290e-04 - c5_loss: 0.0011 - c1_acc: 1.0000 - c2_acc: 1.0000 - c3_acc: 1.0000 - c4_acc: 1.0000 - c5_acc: 1.0000 - val_loss: 15.2711 - val_c1_loss: 3.5990 - val_c2_loss: 3.0542 - val_c3_loss: 2.7059 - val_c4_loss: 3.0609 - val_c5_loss: 2.8511 - val_c1_acc: 0.0952 - val_c2_acc: 0.1429 - val_c3_acc: 0.2381 - val_c4_acc: 0.0476 - val_c5_acc: 0.1905\n",
      "Epoch 26/70\n",
      "181/181 [==============================] - 0s 2ms/step - loss: 0.0045 - c1_loss: 8.8413e-04 - c2_loss: 9.0863e-04 - c3_loss: 8.2958e-04 - c4_loss: 9.0117e-04 - c5_loss: 0.0010 - c1_acc: 1.0000 - c2_acc: 1.0000 - c3_acc: 1.0000 - c4_acc: 1.0000 - c5_acc: 1.0000 - val_loss: 15.0679 - val_c1_loss: 3.5321 - val_c2_loss: 3.0008 - val_c3_loss: 2.6828 - val_c4_loss: 3.0121 - val_c5_loss: 2.8401 - val_c1_acc: 0.0952 - val_c2_acc: 0.1429 - val_c3_acc: 0.2381 - val_c4_acc: 0.0476 - val_c5_acc: 0.1905\n",
      "Epoch 27/70\n",
      "181/181 [==============================] - 0s 2ms/step - loss: 0.0044 - c1_loss: 8.4961e-04 - c2_loss: 8.9569e-04 - c3_loss: 8.1063e-04 - c4_loss: 9.1649e-04 - c5_loss: 9.5326e-04 - c1_acc: 1.0000 - c2_acc: 1.0000 - c3_acc: 1.0000 - c4_acc: 1.0000 - c5_acc: 1.0000 - val_loss: 14.7789 - val_c1_loss: 3.4522 - val_c2_loss: 2.9111 - val_c3_loss: 2.6286 - val_c4_loss: 2.9540 - val_c5_loss: 2.8330 - val_c1_acc: 0.0952 - val_c2_acc: 0.1429 - val_c3_acc: 0.2381 - val_c4_acc: 0.0476 - val_c5_acc: 0.1905\n",
      "Epoch 28/70\n",
      "181/181 [==============================] - 0s 2ms/step - loss: 0.0041 - c1_loss: 7.8265e-04 - c2_loss: 7.9324e-04 - c3_loss: 7.8239e-04 - c4_loss: 7.7514e-04 - c5_loss: 9.4245e-04 - c1_acc: 1.0000 - c2_acc: 1.0000 - c3_acc: 1.0000 - c4_acc: 1.0000 - c5_acc: 1.0000 - val_loss: 14.4062 - val_c1_loss: 3.3648 - val_c2_loss: 2.8050 - val_c3_loss: 2.5375 - val_c4_loss: 2.8729 - val_c5_loss: 2.8260 - val_c1_acc: 0.0952 - val_c2_acc: 0.1905 - val_c3_acc: 0.2381 - val_c4_acc: 0.0476 - val_c5_acc: 0.1905\n",
      "Epoch 29/70\n",
      "181/181 [==============================] - 0s 2ms/step - loss: 0.0042 - c1_loss: 8.1197e-04 - c2_loss: 7.9113e-04 - c3_loss: 7.6456e-04 - c4_loss: 8.4379e-04 - c5_loss: 9.8066e-04 - c1_acc: 1.0000 - c2_acc: 1.0000 - c3_acc: 1.0000 - c4_acc: 1.0000 - c5_acc: 1.0000 - val_loss: 14.0206 - val_c1_loss: 3.2901 - val_c2_loss: 2.7009 - val_c3_loss: 2.4353 - val_c4_loss: 2.7868 - val_c5_loss: 2.8076 - val_c1_acc: 0.0952 - val_c2_acc: 0.1905 - val_c3_acc: 0.2381 - val_c4_acc: 0.0476 - val_c5_acc: 0.1905\n",
      "Epoch 30/70\n",
      "181/181 [==============================] - 0s 2ms/step - loss: 0.0039 - c1_loss: 7.3295e-04 - c2_loss: 7.4380e-04 - c3_loss: 7.1447e-04 - c4_loss: 8.0077e-04 - c5_loss: 8.6658e-04 - c1_acc: 1.0000 - c2_acc: 1.0000 - c3_acc: 1.0000 - c4_acc: 1.0000 - c5_acc: 1.0000 - val_loss: 13.5891 - val_c1_loss: 3.2141 - val_c2_loss: 2.5808 - val_c3_loss: 2.3147 - val_c4_loss: 2.6891 - val_c5_loss: 2.7903 - val_c1_acc: 0.0952 - val_c2_acc: 0.1905 - val_c3_acc: 0.2381 - val_c4_acc: 0.0476 - val_c5_acc: 0.1905\n",
      "Epoch 31/70\n",
      "181/181 [==============================] - 0s 2ms/step - loss: 0.0040 - c1_loss: 7.5668e-04 - c2_loss: 7.9761e-04 - c3_loss: 7.1146e-04 - c4_loss: 8.0591e-04 - c5_loss: 8.9462e-04 - c1_acc: 1.0000 - c2_acc: 1.0000 - c3_acc: 1.0000 - c4_acc: 1.0000 - c5_acc: 1.0000 - val_loss: 13.1014 - val_c1_loss: 3.1144 - val_c2_loss: 2.4471 - val_c3_loss: 2.1807 - val_c4_loss: 2.5902 - val_c5_loss: 2.7691 - val_c1_acc: 0.0952 - val_c2_acc: 0.1905 - val_c3_acc: 0.2381 - val_c4_acc: 0.0476 - val_c5_acc: 0.1905\n",
      "Epoch 32/70\n",
      "181/181 [==============================] - 0s 2ms/step - loss: 0.0039 - c1_loss: 7.8147e-04 - c2_loss: 7.7598e-04 - c3_loss: 7.0877e-04 - c4_loss: 7.5262e-04 - c5_loss: 8.3744e-04 - c1_acc: 1.0000 - c2_acc: 1.0000 - c3_acc: 1.0000 - c4_acc: 1.0000 - c5_acc: 1.0000 - val_loss: 12.6383 - val_c1_loss: 3.0206 - val_c2_loss: 2.3103 - val_c3_loss: 2.0641 - val_c4_loss: 2.4957 - val_c5_loss: 2.7476 - val_c1_acc: 0.1429 - val_c2_acc: 0.1905 - val_c3_acc: 0.2381 - val_c4_acc: 0.0476 - val_c5_acc: 0.1905\n",
      "Epoch 33/70\n",
      "181/181 [==============================] - 0s 2ms/step - loss: 0.0036 - c1_loss: 6.4087e-04 - c2_loss: 7.4240e-04 - c3_loss: 6.2149e-04 - c4_loss: 7.1153e-04 - c5_loss: 8.5375e-04 - c1_acc: 1.0000 - c2_acc: 1.0000 - c3_acc: 1.0000 - c4_acc: 1.0000 - c5_acc: 1.0000 - val_loss: 12.1107 - val_c1_loss: 2.9103 - val_c2_loss: 2.1582 - val_c3_loss: 1.9390 - val_c4_loss: 2.3707 - val_c5_loss: 2.7324 - val_c1_acc: 0.1429 - val_c2_acc: 0.1905 - val_c3_acc: 0.2857 - val_c4_acc: 0.0476 - val_c5_acc: 0.1905\n",
      "Epoch 34/70\n",
      "181/181 [==============================] - 0s 2ms/step - loss: 0.0035 - c1_loss: 6.5901e-04 - c2_loss: 6.8659e-04 - c3_loss: 6.6984e-04 - c4_loss: 6.8514e-04 - c5_loss: 7.7008e-04 - c1_acc: 1.0000 - c2_acc: 1.0000 - c3_acc: 1.0000 - c4_acc: 1.0000 - c5_acc: 1.0000 - val_loss: 11.5667 - val_c1_loss: 2.7915 - val_c2_loss: 2.0220 - val_c3_loss: 1.8114 - val_c4_loss: 2.2242 - val_c5_loss: 2.7177 - val_c1_acc: 0.1429 - val_c2_acc: 0.2381 - val_c3_acc: 0.3810 - val_c4_acc: 0.1429 - val_c5_acc: 0.1905\n",
      "Epoch 35/70\n",
      "181/181 [==============================] - 0s 2ms/step - loss: 0.0032 - c1_loss: 6.1021e-04 - c2_loss: 6.4567e-04 - c3_loss: 6.1706e-04 - c4_loss: 6.0339e-04 - c5_loss: 7.3882e-04 - c1_acc: 1.0000 - c2_acc: 1.0000 - c3_acc: 1.0000 - c4_acc: 1.0000 - c5_acc: 1.0000 - val_loss: 11.0410 - val_c1_loss: 2.6636 - val_c2_loss: 1.8920 - val_c3_loss: 1.6866 - val_c4_loss: 2.1037 - val_c5_loss: 2.6952 - val_c1_acc: 0.1905 - val_c2_acc: 0.2857 - val_c3_acc: 0.3810 - val_c4_acc: 0.1429 - val_c5_acc: 0.1905\n",
      "Epoch 36/70\n",
      "181/181 [==============================] - 0s 2ms/step - loss: 0.0033 - c1_loss: 6.1278e-04 - c2_loss: 6.7476e-04 - c3_loss: 5.6693e-04 - c4_loss: 6.4433e-04 - c5_loss: 7.5258e-04 - c1_acc: 1.0000 - c2_acc: 1.0000 - c3_acc: 1.0000 - c4_acc: 1.0000 - c5_acc: 1.0000 - val_loss: 10.5140 - val_c1_loss: 2.5330 - val_c2_loss: 1.7524 - val_c3_loss: 1.5651 - val_c4_loss: 1.9964 - val_c5_loss: 2.6671 - val_c1_acc: 0.2381 - val_c2_acc: 0.3333 - val_c3_acc: 0.4286 - val_c4_acc: 0.1429 - val_c5_acc: 0.1905\n",
      "Epoch 37/70\n",
      "181/181 [==============================] - 0s 2ms/step - loss: 0.0031 - c1_loss: 5.7536e-04 - c2_loss: 6.5374e-04 - c3_loss: 5.5777e-04 - c4_loss: 5.7705e-04 - c5_loss: 7.4299e-04 - c1_acc: 1.0000 - c2_acc: 1.0000 - c3_acc: 1.0000 - c4_acc: 1.0000 - c5_acc: 1.0000 - val_loss: 9.9490 - val_c1_loss: 2.3944 - val_c2_loss: 1.6040 - val_c3_loss: 1.4462 - val_c4_loss: 1.8788 - val_c5_loss: 2.6257 - val_c1_acc: 0.3810 - val_c2_acc: 0.3810 - val_c3_acc: 0.4286 - val_c4_acc: 0.1429 - val_c5_acc: 0.1905\n",
      "Epoch 38/70\n",
      "181/181 [==============================] - 0s 2ms/step - loss: 0.0031 - c1_loss: 5.7081e-04 - c2_loss: 5.4480e-04 - c3_loss: 6.2810e-04 - c4_loss: 6.2166e-04 - c5_loss: 7.4076e-04 - c1_acc: 1.0000 - c2_acc: 1.0000 - c3_acc: 1.0000 - c4_acc: 1.0000 - c5_acc: 1.0000 - val_loss: 9.3917 - val_c1_loss: 2.2571 - val_c2_loss: 1.4622 - val_c3_loss: 1.3394 - val_c4_loss: 1.7578 - val_c5_loss: 2.5752 - val_c1_acc: 0.3810 - val_c2_acc: 0.4762 - val_c3_acc: 0.4762 - val_c4_acc: 0.1905 - val_c5_acc: 0.1905\n",
      "Epoch 39/70\n",
      "181/181 [==============================] - 0s 2ms/step - loss: 0.0031 - c1_loss: 5.3141e-04 - c2_loss: 6.1164e-04 - c3_loss: 5.4528e-04 - c4_loss: 6.5209e-04 - c5_loss: 7.2025e-04 - c1_acc: 1.0000 - c2_acc: 1.0000 - c3_acc: 1.0000 - c4_acc: 1.0000 - c5_acc: 1.0000 - val_loss: 8.8874 - val_c1_loss: 2.1283 - val_c2_loss: 1.3390 - val_c3_loss: 1.2507 - val_c4_loss: 1.6440 - val_c5_loss: 2.5253 - val_c1_acc: 0.3810 - val_c2_acc: 0.5238 - val_c3_acc: 0.5238 - val_c4_acc: 0.1905 - val_c5_acc: 0.1905\n",
      "Epoch 40/70\n",
      "181/181 [==============================] - 0s 2ms/step - loss: 0.0028 - c1_loss: 5.0097e-04 - c2_loss: 5.5895e-04 - c3_loss: 4.9592e-04 - c4_loss: 5.7545e-04 - c5_loss: 6.8794e-04 - c1_acc: 1.0000 - c2_acc: 1.0000 - c3_acc: 1.0000 - c4_acc: 1.0000 - c5_acc: 1.0000 - val_loss: 8.3716 - val_c1_loss: 1.9879 - val_c2_loss: 1.2180 - val_c3_loss: 1.1668 - val_c4_loss: 1.5294 - val_c5_loss: 2.4695 - val_c1_acc: 0.4286 - val_c2_acc: 0.5714 - val_c3_acc: 0.5714 - val_c4_acc: 0.3333 - val_c5_acc: 0.1905\n",
      "Epoch 41/70\n",
      "181/181 [==============================] - 0s 2ms/step - loss: 0.0027 - c1_loss: 5.3996e-04 - c2_loss: 4.9968e-04 - c3_loss: 4.7806e-04 - c4_loss: 5.5517e-04 - c5_loss: 6.1831e-04 - c1_acc: 1.0000 - c2_acc: 1.0000 - c3_acc: 1.0000 - c4_acc: 1.0000 - c5_acc: 1.0000 - val_loss: 7.9116 - val_c1_loss: 1.8582 - val_c2_loss: 1.1161 - val_c3_loss: 1.0967 - val_c4_loss: 1.4375 - val_c5_loss: 2.4030 - val_c1_acc: 0.4286 - val_c2_acc: 0.6667 - val_c3_acc: 0.7143 - val_c4_acc: 0.3810 - val_c5_acc: 0.1905\n",
      "Epoch 42/70\n",
      "181/181 [==============================] - 0s 2ms/step - loss: 0.0027 - c1_loss: 5.1586e-04 - c2_loss: 5.1076e-04 - c3_loss: 4.8581e-04 - c4_loss: 5.4761e-04 - c5_loss: 5.9767e-04 - c1_acc: 1.0000 - c2_acc: 1.0000 - c3_acc: 1.0000 - c4_acc: 1.0000 - c5_acc: 1.0000 - val_loss: 7.4505 - val_c1_loss: 1.7277 - val_c2_loss: 1.0236 - val_c3_loss: 1.0226 - val_c4_loss: 1.3434 - val_c5_loss: 2.3333 - val_c1_acc: 0.4286 - val_c2_acc: 0.6667 - val_c3_acc: 0.7143 - val_c4_acc: 0.6190 - val_c5_acc: 0.1905\n",
      "Epoch 43/70\n",
      "181/181 [==============================] - 0s 2ms/step - loss: 0.0026 - c1_loss: 5.2637e-04 - c2_loss: 5.2332e-04 - c3_loss: 4.8748e-04 - c4_loss: 5.0369e-04 - c5_loss: 5.7169e-04 - c1_acc: 1.0000 - c2_acc: 1.0000 - c3_acc: 1.0000 - c4_acc: 1.0000 - c5_acc: 1.0000 - val_loss: 7.0187 - val_c1_loss: 1.6108 - val_c2_loss: 0.9396 - val_c3_loss: 0.9533 - val_c4_loss: 1.2540 - val_c5_loss: 2.2611 - val_c1_acc: 0.4286 - val_c2_acc: 0.7143 - val_c3_acc: 0.7143 - val_c4_acc: 0.6190 - val_c5_acc: 0.1905\n",
      "Epoch 44/70\n",
      "181/181 [==============================] - 0s 2ms/step - loss: 0.0025 - c1_loss: 5.1478e-04 - c2_loss: 5.2100e-04 - c3_loss: 4.6459e-04 - c4_loss: 4.9900e-04 - c5_loss: 5.3884e-04 - c1_acc: 1.0000 - c2_acc: 1.0000 - c3_acc: 1.0000 - c4_acc: 1.0000 - c5_acc: 1.0000 - val_loss: 6.5924 - val_c1_loss: 1.4921 - val_c2_loss: 0.8584 - val_c3_loss: 0.8851 - val_c4_loss: 1.1641 - val_c5_loss: 2.1926 - val_c1_acc: 0.4762 - val_c2_acc: 0.7143 - val_c3_acc: 0.7143 - val_c4_acc: 0.6190 - val_c5_acc: 0.1905\n",
      "Epoch 45/70\n",
      "181/181 [==============================] - 0s 2ms/step - loss: 0.0024 - c1_loss: 4.4714e-04 - c2_loss: 4.8880e-04 - c3_loss: 4.3676e-04 - c4_loss: 5.0062e-04 - c5_loss: 5.4932e-04 - c1_acc: 1.0000 - c2_acc: 1.0000 - c3_acc: 1.0000 - c4_acc: 1.0000 - c5_acc: 1.0000 - val_loss: 6.2018 - val_c1_loss: 1.3863 - val_c2_loss: 0.7795 - val_c3_loss: 0.8227 - val_c4_loss: 1.0889 - val_c5_loss: 2.1244 - val_c1_acc: 0.5238 - val_c2_acc: 0.7143 - val_c3_acc: 0.7143 - val_c4_acc: 0.6667 - val_c5_acc: 0.2381\n",
      "Epoch 46/70\n",
      "181/181 [==============================] - 0s 2ms/step - loss: 0.0025 - c1_loss: 4.8114e-04 - c2_loss: 5.0619e-04 - c3_loss: 5.1125e-04 - c4_loss: 4.4480e-04 - c5_loss: 5.4943e-04 - c1_acc: 1.0000 - c2_acc: 1.0000 - c3_acc: 1.0000 - c4_acc: 1.0000 - c5_acc: 1.0000 - val_loss: 5.8381 - val_c1_loss: 1.2865 - val_c2_loss: 0.7063 - val_c3_loss: 0.7644 - val_c4_loss: 1.0233 - val_c5_loss: 2.0576 - val_c1_acc: 0.5714 - val_c2_acc: 0.7619 - val_c3_acc: 0.7143 - val_c4_acc: 0.7143 - val_c5_acc: 0.2381\n",
      "Epoch 47/70\n",
      "181/181 [==============================] - 0s 2ms/step - loss: 0.0024 - c1_loss: 4.5620e-04 - c2_loss: 4.5154e-04 - c3_loss: 4.4264e-04 - c4_loss: 4.8053e-04 - c5_loss: 5.3173e-04 - c1_acc: 1.0000 - c2_acc: 1.0000 - c3_acc: 1.0000 - c4_acc: 1.0000 - c5_acc: 1.0000 - val_loss: 5.5057 - val_c1_loss: 1.1939 - val_c2_loss: 0.6427 - val_c3_loss: 0.7081 - val_c4_loss: 0.9657 - val_c5_loss: 1.9953 - val_c1_acc: 0.6190 - val_c2_acc: 0.8095 - val_c3_acc: 0.7143 - val_c4_acc: 0.7143 - val_c5_acc: 0.2381\n",
      "Epoch 48/70\n",
      "181/181 [==============================] - 0s 2ms/step - loss: 0.0024 - c1_loss: 4.4138e-04 - c2_loss: 4.5128e-04 - c3_loss: 4.0799e-04 - c4_loss: 4.9202e-04 - c5_loss: 5.6389e-04 - c1_acc: 1.0000 - c2_acc: 1.0000 - c3_acc: 1.0000 - c4_acc: 1.0000 - c5_acc: 1.0000 - val_loss: 5.1893 - val_c1_loss: 1.1063 - val_c2_loss: 0.5835 - val_c3_loss: 0.6550 - val_c4_loss: 0.9124 - val_c5_loss: 1.9322 - val_c1_acc: 0.6667 - val_c2_acc: 0.8095 - val_c3_acc: 0.7619 - val_c4_acc: 0.7619 - val_c5_acc: 0.2857\n",
      "Epoch 49/70\n",
      "181/181 [==============================] - 0s 2ms/step - loss: 0.0023 - c1_loss: 4.1554e-04 - c2_loss: 4.2838e-04 - c3_loss: 4.2030e-04 - c4_loss: 4.4657e-04 - c5_loss: 5.4325e-04 - c1_acc: 1.0000 - c2_acc: 1.0000 - c3_acc: 1.0000 - c4_acc: 1.0000 - c5_acc: 1.0000 - val_loss: 4.9071 - val_c1_loss: 1.0280 - val_c2_loss: 0.5313 - val_c3_loss: 0.6088 - val_c4_loss: 0.8650 - val_c5_loss: 1.8741 - val_c1_acc: 0.6667 - val_c2_acc: 0.8095 - val_c3_acc: 0.7619 - val_c4_acc: 0.8095 - val_c5_acc: 0.2857\n",
      "Epoch 50/70\n"
     ]
    },
    {
     "name": "stdout",
     "output_type": "stream",
     "text": [
      "181/181 [==============================] - 0s 2ms/step - loss: 0.0023 - c1_loss: 4.1568e-04 - c2_loss: 4.3653e-04 - c3_loss: 4.1158e-04 - c4_loss: 4.3710e-04 - c5_loss: 5.5450e-04 - c1_acc: 1.0000 - c2_acc: 1.0000 - c3_acc: 1.0000 - c4_acc: 1.0000 - c5_acc: 1.0000 - val_loss: 4.6536 - val_c1_loss: 0.9568 - val_c2_loss: 0.4870 - val_c3_loss: 0.5711 - val_c4_loss: 0.8222 - val_c5_loss: 1.8166 - val_c1_acc: 0.6667 - val_c2_acc: 0.8095 - val_c3_acc: 0.7619 - val_c4_acc: 0.8095 - val_c5_acc: 0.2857\n",
      "Epoch 51/70\n",
      "181/181 [==============================] - 0s 2ms/step - loss: 0.0021 - c1_loss: 3.8516e-04 - c2_loss: 4.2074e-04 - c3_loss: 4.0454e-04 - c4_loss: 4.1310e-04 - c5_loss: 4.8844e-04 - c1_acc: 1.0000 - c2_acc: 1.0000 - c3_acc: 1.0000 - c4_acc: 1.0000 - c5_acc: 1.0000 - val_loss: 4.4205 - val_c1_loss: 0.8883 - val_c2_loss: 0.4435 - val_c3_loss: 0.5377 - val_c4_loss: 0.7869 - val_c5_loss: 1.7641 - val_c1_acc: 0.6667 - val_c2_acc: 0.8571 - val_c3_acc: 0.7619 - val_c4_acc: 0.8571 - val_c5_acc: 0.2857\n",
      "Epoch 52/70\n",
      "181/181 [==============================] - 0s 2ms/step - loss: 0.0021 - c1_loss: 4.2628e-04 - c2_loss: 4.1324e-04 - c3_loss: 3.6772e-04 - c4_loss: 4.3704e-04 - c5_loss: 4.7821e-04 - c1_acc: 1.0000 - c2_acc: 1.0000 - c3_acc: 1.0000 - c4_acc: 1.0000 - c5_acc: 1.0000 - val_loss: 4.2094 - val_c1_loss: 0.8294 - val_c2_loss: 0.4057 - val_c3_loss: 0.5061 - val_c4_loss: 0.7551 - val_c5_loss: 1.7130 - val_c1_acc: 0.6667 - val_c2_acc: 0.8571 - val_c3_acc: 0.8095 - val_c4_acc: 0.8571 - val_c5_acc: 0.3333\n",
      "Epoch 53/70\n",
      "181/181 [==============================] - 0s 2ms/step - loss: 0.0021 - c1_loss: 3.7535e-04 - c2_loss: 4.1199e-04 - c3_loss: 3.9003e-04 - c4_loss: 4.0269e-04 - c5_loss: 4.8392e-04 - c1_acc: 1.0000 - c2_acc: 1.0000 - c3_acc: 1.0000 - c4_acc: 1.0000 - c5_acc: 1.0000 - val_loss: 4.0065 - val_c1_loss: 0.7711 - val_c2_loss: 0.3716 - val_c3_loss: 0.4751 - val_c4_loss: 0.7255 - val_c5_loss: 1.6632 - val_c1_acc: 0.6667 - val_c2_acc: 0.9048 - val_c3_acc: 0.8571 - val_c4_acc: 0.8571 - val_c5_acc: 0.3810\n",
      "Epoch 54/70\n",
      "181/181 [==============================] - 0s 2ms/step - loss: 0.0019 - c1_loss: 3.5667e-04 - c2_loss: 3.5294e-04 - c3_loss: 3.5942e-04 - c4_loss: 3.9154e-04 - c5_loss: 4.4497e-04 - c1_acc: 1.0000 - c2_acc: 1.0000 - c3_acc: 1.0000 - c4_acc: 1.0000 - c5_acc: 1.0000 - val_loss: 3.8267 - val_c1_loss: 0.7200 - val_c2_loss: 0.3451 - val_c3_loss: 0.4488 - val_c4_loss: 0.7004 - val_c5_loss: 1.6123 - val_c1_acc: 0.6667 - val_c2_acc: 0.9048 - val_c3_acc: 0.8571 - val_c4_acc: 0.8571 - val_c5_acc: 0.3810\n",
      "Epoch 55/70\n",
      "181/181 [==============================] - 0s 2ms/step - loss: 0.0020 - c1_loss: 3.5828e-04 - c2_loss: 3.7994e-04 - c3_loss: 3.5150e-04 - c4_loss: 4.0538e-04 - c5_loss: 4.7467e-04 - c1_acc: 1.0000 - c2_acc: 1.0000 - c3_acc: 1.0000 - c4_acc: 1.0000 - c5_acc: 1.0000 - val_loss: 3.6672 - val_c1_loss: 0.6755 - val_c2_loss: 0.3231 - val_c3_loss: 0.4268 - val_c4_loss: 0.6758 - val_c5_loss: 1.5660 - val_c1_acc: 0.7143 - val_c2_acc: 0.9048 - val_c3_acc: 0.8571 - val_c4_acc: 0.8571 - val_c5_acc: 0.3810\n",
      "Epoch 56/70\n",
      "181/181 [==============================] - 0s 2ms/step - loss: 0.0019 - c1_loss: 3.6261e-04 - c2_loss: 3.7825e-04 - c3_loss: 3.2923e-04 - c4_loss: 3.6807e-04 - c5_loss: 4.3460e-04 - c1_acc: 1.0000 - c2_acc: 1.0000 - c3_acc: 1.0000 - c4_acc: 1.0000 - c5_acc: 1.0000 - val_loss: 3.5234 - val_c1_loss: 0.6329 - val_c2_loss: 0.3043 - val_c3_loss: 0.4073 - val_c4_loss: 0.6547 - val_c5_loss: 1.5243 - val_c1_acc: 0.7619 - val_c2_acc: 0.9048 - val_c3_acc: 0.8571 - val_c4_acc: 0.8571 - val_c5_acc: 0.4286\n",
      "Epoch 57/70\n",
      "181/181 [==============================] - 0s 2ms/step - loss: 0.0018 - c1_loss: 3.4532e-04 - c2_loss: 3.5342e-04 - c3_loss: 3.2995e-04 - c4_loss: 3.3495e-04 - c5_loss: 4.2796e-04 - c1_acc: 1.0000 - c2_acc: 1.0000 - c3_acc: 1.0000 - c4_acc: 1.0000 - c5_acc: 1.0000 - val_loss: 3.3939 - val_c1_loss: 0.5939 - val_c2_loss: 0.2865 - val_c3_loss: 0.3896 - val_c4_loss: 0.6360 - val_c5_loss: 1.4878 - val_c1_acc: 0.8095 - val_c2_acc: 0.9048 - val_c3_acc: 0.8571 - val_c4_acc: 0.8571 - val_c5_acc: 0.4286\n",
      "Epoch 58/70\n",
      "181/181 [==============================] - 0s 2ms/step - loss: 0.0019 - c1_loss: 3.2586e-04 - c2_loss: 3.6968e-04 - c3_loss: 3.4777e-04 - c4_loss: 3.7326e-04 - c5_loss: 4.5735e-04 - c1_acc: 1.0000 - c2_acc: 1.0000 - c3_acc: 1.0000 - c4_acc: 1.0000 - c5_acc: 1.0000 - val_loss: 3.2825 - val_c1_loss: 0.5604 - val_c2_loss: 0.2717 - val_c3_loss: 0.3753 - val_c4_loss: 0.6218 - val_c5_loss: 1.4532 - val_c1_acc: 0.8095 - val_c2_acc: 0.9048 - val_c3_acc: 0.8571 - val_c4_acc: 0.8571 - val_c5_acc: 0.4286\n",
      "Epoch 59/70\n",
      "181/181 [==============================] - 0s 2ms/step - loss: 0.0018 - c1_loss: 3.4466e-04 - c2_loss: 3.4168e-04 - c3_loss: 3.4729e-04 - c4_loss: 3.5165e-04 - c5_loss: 4.1413e-04 - c1_acc: 1.0000 - c2_acc: 1.0000 - c3_acc: 1.0000 - c4_acc: 1.0000 - c5_acc: 1.0000 - val_loss: 3.1683 - val_c1_loss: 0.5268 - val_c2_loss: 0.2556 - val_c3_loss: 0.3604 - val_c4_loss: 0.6099 - val_c5_loss: 1.4157 - val_c1_acc: 0.8095 - val_c2_acc: 0.9524 - val_c3_acc: 0.8571 - val_c4_acc: 0.8571 - val_c5_acc: 0.4286\n",
      "Epoch 60/70\n",
      "181/181 [==============================] - 0s 2ms/step - loss: 0.0017 - c1_loss: 3.1206e-04 - c2_loss: 3.4764e-04 - c3_loss: 3.3130e-04 - c4_loss: 3.3057e-04 - c5_loss: 3.8980e-04 - c1_acc: 1.0000 - c2_acc: 1.0000 - c3_acc: 1.0000 - c4_acc: 1.0000 - c5_acc: 1.0000 - val_loss: 3.0699 - val_c1_loss: 0.4984 - val_c2_loss: 0.2443 - val_c3_loss: 0.3486 - val_c4_loss: 0.5975 - val_c5_loss: 1.3812 - val_c1_acc: 0.8095 - val_c2_acc: 0.9524 - val_c3_acc: 0.8571 - val_c4_acc: 0.8571 - val_c5_acc: 0.4286\n",
      "Epoch 61/70\n",
      "181/181 [==============================] - 0s 2ms/step - loss: 0.0017 - c1_loss: 3.0472e-04 - c2_loss: 3.3846e-04 - c3_loss: 3.3051e-04 - c4_loss: 3.2897e-04 - c5_loss: 4.2504e-04 - c1_acc: 1.0000 - c2_acc: 1.0000 - c3_acc: 1.0000 - c4_acc: 1.0000 - c5_acc: 1.0000 - val_loss: 2.9798 - val_c1_loss: 0.4722 - val_c2_loss: 0.2351 - val_c3_loss: 0.3365 - val_c4_loss: 0.5855 - val_c5_loss: 1.3505 - val_c1_acc: 0.8095 - val_c2_acc: 0.9524 - val_c3_acc: 0.9048 - val_c4_acc: 0.8571 - val_c5_acc: 0.4286\n",
      "Epoch 62/70\n",
      "181/181 [==============================] - 0s 2ms/step - loss: 0.0017 - c1_loss: 3.2650e-04 - c2_loss: 3.4767e-04 - c3_loss: 3.1550e-04 - c4_loss: 3.5156e-04 - c5_loss: 3.7329e-04 - c1_acc: 1.0000 - c2_acc: 1.0000 - c3_acc: 1.0000 - c4_acc: 1.0000 - c5_acc: 1.0000 - val_loss: 2.9019 - val_c1_loss: 0.4502 - val_c2_loss: 0.2273 - val_c3_loss: 0.3249 - val_c4_loss: 0.5750 - val_c5_loss: 1.3244 - val_c1_acc: 0.8571 - val_c2_acc: 0.9524 - val_c3_acc: 0.9048 - val_c4_acc: 0.9048 - val_c5_acc: 0.4286\n",
      "Epoch 63/70\n",
      "181/181 [==============================] - 0s 2ms/step - loss: 0.0016 - c1_loss: 3.0152e-04 - c2_loss: 3.0887e-04 - c3_loss: 3.1238e-04 - c4_loss: 3.1625e-04 - c5_loss: 3.6310e-04 - c1_acc: 1.0000 - c2_acc: 1.0000 - c3_acc: 1.0000 - c4_acc: 1.0000 - c5_acc: 1.0000 - val_loss: 2.8240 - val_c1_loss: 0.4280 - val_c2_loss: 0.2205 - val_c3_loss: 0.3126 - val_c4_loss: 0.5628 - val_c5_loss: 1.3001 - val_c1_acc: 0.8571 - val_c2_acc: 0.9524 - val_c3_acc: 0.9048 - val_c4_acc: 0.9048 - val_c5_acc: 0.4286\n",
      "Epoch 64/70\n",
      "181/181 [==============================] - 0s 2ms/step - loss: 0.0017 - c1_loss: 3.5215e-04 - c2_loss: 3.4203e-04 - c3_loss: 3.0672e-04 - c4_loss: 3.5249e-04 - c5_loss: 3.8097e-04 - c1_acc: 1.0000 - c2_acc: 1.0000 - c3_acc: 1.0000 - c4_acc: 1.0000 - c5_acc: 1.0000 - val_loss: 2.7513 - val_c1_loss: 0.4074 - val_c2_loss: 0.2130 - val_c3_loss: 0.3004 - val_c4_loss: 0.5532 - val_c5_loss: 1.2774 - val_c1_acc: 0.9048 - val_c2_acc: 0.9524 - val_c3_acc: 0.9048 - val_c4_acc: 0.9048 - val_c5_acc: 0.4286\n",
      "Epoch 65/70\n",
      "181/181 [==============================] - 0s 2ms/step - loss: 0.0015 - c1_loss: 2.8698e-04 - c2_loss: 3.0649e-04 - c3_loss: 2.9361e-04 - c4_loss: 2.8549e-04 - c5_loss: 3.5428e-04 - c1_acc: 1.0000 - c2_acc: 1.0000 - c3_acc: 1.0000 - c4_acc: 1.0000 - c5_acc: 1.0000 - val_loss: 2.6851 - val_c1_loss: 0.3861 - val_c2_loss: 0.2084 - val_c3_loss: 0.2895 - val_c4_loss: 0.5427 - val_c5_loss: 1.2584 - val_c1_acc: 0.9048 - val_c2_acc: 0.9524 - val_c3_acc: 0.9524 - val_c4_acc: 0.9048 - val_c5_acc: 0.4762\n",
      "Epoch 66/70\n",
      "181/181 [==============================] - 0s 2ms/step - loss: 0.0016 - c1_loss: 3.0185e-04 - c2_loss: 3.1549e-04 - c3_loss: 2.8311e-04 - c4_loss: 3.0348e-04 - c5_loss: 3.6252e-04 - c1_acc: 1.0000 - c2_acc: 1.0000 - c3_acc: 1.0000 - c4_acc: 1.0000 - c5_acc: 1.0000 - val_loss: 2.6275 - val_c1_loss: 0.3679 - val_c2_loss: 0.2050 - val_c3_loss: 0.2792 - val_c4_loss: 0.5344 - val_c5_loss: 1.2411 - val_c1_acc: 0.9048 - val_c2_acc: 0.9524 - val_c3_acc: 0.9524 - val_c4_acc: 0.9048 - val_c5_acc: 0.4762\n",
      "Epoch 67/70\n",
      "181/181 [==============================] - 0s 2ms/step - loss: 0.0015 - c1_loss: 2.7234e-04 - c2_loss: 3.0906e-04 - c3_loss: 2.7740e-04 - c4_loss: 2.8132e-04 - c5_loss: 3.8191e-04 - c1_acc: 1.0000 - c2_acc: 1.0000 - c3_acc: 1.0000 - c4_acc: 1.0000 - c5_acc: 1.0000 - val_loss: 2.5784 - val_c1_loss: 0.3539 - val_c2_loss: 0.2022 - val_c3_loss: 0.2698 - val_c4_loss: 0.5265 - val_c5_loss: 1.2261 - val_c1_acc: 0.9048 - val_c2_acc: 0.9524 - val_c3_acc: 0.9524 - val_c4_acc: 0.9048 - val_c5_acc: 0.4762\n",
      "Epoch 68/70\n",
      "181/181 [==============================] - 0s 2ms/step - loss: 0.0015 - c1_loss: 3.2075e-04 - c2_loss: 2.8931e-04 - c3_loss: 2.7930e-04 - c4_loss: 2.7893e-04 - c5_loss: 3.5196e-04 - c1_acc: 1.0000 - c2_acc: 1.0000 - c3_acc: 1.0000 - c4_acc: 1.0000 - c5_acc: 1.0000 - val_loss: 2.5293 - val_c1_loss: 0.3394 - val_c2_loss: 0.1979 - val_c3_loss: 0.2616 - val_c4_loss: 0.5196 - val_c5_loss: 1.2107 - val_c1_acc: 0.9048 - val_c2_acc: 0.9524 - val_c3_acc: 0.9524 - val_c4_acc: 0.9048 - val_c5_acc: 0.4762\n",
      "Epoch 69/70\n",
      "181/181 [==============================] - 0s 2ms/step - loss: 0.0014 - c1_loss: 2.6588e-04 - c2_loss: 2.8017e-04 - c3_loss: 2.6286e-04 - c4_loss: 2.8207e-04 - c5_loss: 3.2307e-04 - c1_acc: 1.0000 - c2_acc: 1.0000 - c3_acc: 1.0000 - c4_acc: 1.0000 - c5_acc: 1.0000 - val_loss: 2.4798 - val_c1_loss: 0.3246 - val_c2_loss: 0.1948 - val_c3_loss: 0.2537 - val_c4_loss: 0.5126 - val_c5_loss: 1.1941 - val_c1_acc: 0.9048 - val_c2_acc: 0.9524 - val_c3_acc: 0.9524 - val_c4_acc: 0.9048 - val_c5_acc: 0.4762\n",
      "Epoch 70/70\n",
      "181/181 [==============================] - 0s 2ms/step - loss: 0.0014 - c1_loss: 2.6596e-04 - c2_loss: 2.7122e-04 - c3_loss: 2.9477e-04 - c4_loss: 2.9968e-04 - c5_loss: 3.0869e-04 - c1_acc: 1.0000 - c2_acc: 1.0000 - c3_acc: 1.0000 - c4_acc: 1.0000 - c5_acc: 1.0000 - val_loss: 2.4329 - val_c1_loss: 0.3121 - val_c2_loss: 0.1939 - val_c3_loss: 0.2469 - val_c4_loss: 0.5039 - val_c5_loss: 1.1761 - val_c1_acc: 0.9048 - val_c2_acc: 0.9524 - val_c3_acc: 0.9524 - val_c4_acc: 0.9048 - val_c5_acc: 0.4762\n"
     ]
    },
    {
     "data": {
      "text/plain": [
       "<tensorflow.python.keras.callbacks.History at 0x15bdc696278>"
      ]
     },
     "execution_count": 181,
     "metadata": {},
     "output_type": "execute_result"
    }
   ],
   "source": [
    "model.fit(X,y, epochs=70, validation_split=0.1)\n",
    "# model.fit_generator(train_data, epochs=100, validation_data=valid_data, workers=4, use_multiprocessing=True,\n",
    "#                     callbacks=callbacks)"
   ]
  },
  {
   "cell_type": "code",
   "execution_count": 184,
   "metadata": {},
   "outputs": [],
   "source": [
    "model.save('result.h5')"
   ]
  },
  {
   "cell_type": "markdown",
   "metadata": {},
   "source": [
    "# 测试模型"
   ]
  },
  {
   "cell_type": "code",
   "execution_count": 5,
   "metadata": {},
   "outputs": [],
   "source": [
    "model=tf.keras.models.load_model('./result.h5')"
   ]
  },
  {
   "cell_type": "code",
   "execution_count": 7,
   "metadata": {},
   "outputs": [
    {
     "name": "stdout",
     "output_type": "stream",
     "text": [
      "[6 8 6 7 6]\n"
     ]
    },
    {
     "data": {
      "text/plain": [
       "(-0.5, 108.5, 40.5, -0.5)"
      ]
     },
     "execution_count": 7,
     "metadata": {},
     "output_type": "execute_result"
    },
    {
     "data": {
      "image/png": "[encoded data removed]",
      "text/plain": [
       "<Figure size 432x288 with 1 Axes>"
      ]
     },
     "metadata": {
      "image/png": {
       "height": 169,
       "width": 349
      },
      "needs_background": "light"
     },
     "output_type": "display_data"
    }
   ],
   "source": [
    "import cv2\n",
    "def decode(y):\n",
    "    y = np.argmax(np.array(y), axis=2)[:,0]\n",
    "    print(y)\n",
    "    return ''.join([str(x) for x in y])\n",
    "# a=cv2.imread('./test/5.jpg')\n",
    "a=cv2.imread('./data/1.jpg')\n",
    "\n",
    "a=cv2.resize(a,(109,41))\n",
    "a=a.reshape((1,41,109,3))\n",
    "a=a/255\n",
    "plt.imshow(a[0])\n",
    "re = model.predict(a)\n",
    "plt.title('real: %s\\npred:%s'%('11111', decode(re)))\n",
    "# plt.imshow(a[0], cmap='gray')\n",
    "plt.axis('off')"
   ]
  }
 ],
 "metadata": {
  "kernelspec": {
   "display_name": "Python 3",
   "language": "python",
   "name": "python3"
  },
  "language_info": {
   "codemirror_mode": {
    "name": "ipython",
    "version": 3
   },
   "file_extension": ".py",
   "mimetype": "text/x-python",
   "name": "python",
   "nbconvert_exporter": "python",
   "pygments_lexer": "ipython3",
   "version": "3.6.7"
  }
 },
 "nbformat": 4,
 "nbformat_minor": 2
}
