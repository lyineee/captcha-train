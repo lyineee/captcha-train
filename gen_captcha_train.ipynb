{
 "cells": [
  {
   "cell_type": "code",
   "execution_count": 1,
   "metadata": {},
   "outputs": [],
   "source": [
    "# import os\n",
    "# os.environ['CUDA_VISIBLE_DEVICES']=\" \""
   ]
  },
  {
   "cell_type": "markdown",
   "metadata": {},
   "source": [
    "# 使用库生成验证码训练集，但效果不好所以弃用\n",
    "\n",
    "# 导入必要的库\n",
    "\n",
    "我们需要导入一个叫 [captcha](https://github.com/lepture/captcha/) 的库来生成验证码。\n",
    "\n",
    "我们生成验证码的字符由数字和大写字母组成。\n",
    "\n",
    "```sh\n",
    "pip install captcha numpy matplotlib tensorflow-gpu\n",
    "```"
   ]
  },
  {
   "cell_type": "code",
   "execution_count": 20,
   "metadata": {
    "ExecuteTime": {
     "end_time": "2019-06-16T06:50:53.934028Z",
     "start_time": "2019-06-16T06:50:53.690430Z"
    }
   },
   "outputs": [
    {
     "name": "stdout",
     "output_type": "stream",
     "text": [
      "0123456789\n"
     ]
    }
   ],
   "source": [
    "from captcha.image import ImageCaptcha\n",
    "import matplotlib.pyplot as plt\n",
    "import numpy as np\n",
    "import random\n",
    "\n",
    "%matplotlib inline\n",
    "%config InlineBackend.figure_format = 'retina'\n",
    "\n",
    "import string\n",
    "# characters = string.digits + string.ascii_uppercase\n",
    "characters = string.digits #只有数字\n",
    "\n",
    "print(characters)\n",
    "\n",
    "width, height, n_len, n_class = 109, 41, 5, len(characters)"
   ]
  },
  {
   "cell_type": "markdown",
   "metadata": {
    "ExecuteTime": {
     "end_time": "2019-06-15T16:05:54.140766Z",
     "start_time": "2019-06-15T16:05:54.137935Z"
    }
   },
   "source": [
    "# 防止 tensorflow 占用所有显存"
   ]
  },
  {
   "cell_type": "code",
   "execution_count": 21,
   "metadata": {
    "ExecuteTime": {
     "end_time": "2019-06-16T06:50:55.074201Z",
     "start_time": "2019-06-16T06:50:53.935176Z"
    }
   },
   "outputs": [],
   "source": [
    "import tensorflow as tf\n",
    "import tensorflow.keras.backend as K\n",
    "\n",
    "# config = tf.ConfigProto()\n",
    "# config.gpu_options.allow_growth=True\n",
    "# sess = tf.Session(config=config)\n",
    "# K.set_session(sess)"
   ]
  },
  {
   "cell_type": "markdown",
   "metadata": {},
   "source": [
    "# 定义数据生成器"
   ]
  },
  {
   "cell_type": "code",
   "execution_count": 194,
   "metadata": {},
   "outputs": [],
   "source": [
    "from PIL import Image\n",
    "import cv2\n",
    "from PIL.ImageDraw import Draw\n",
    "from PIL import ImageFilter\n",
    "table  =  []\n",
    "for  i  in  range( 256 ):\n",
    "    table.append( i * 1.97 )\n",
    "class MyCaptcha(ImageCaptcha):\n",
    "    def generate_image(self, chars):\n",
    "        \"\"\"Generate the image of the given characters.\n",
    "        :param chars: text to be generated.\n",
    "        \"\"\"\n",
    "        background = (255,255,255)\n",
    "        color = random_color(10, 200)\n",
    "        im = self.create_captcha_image(chars, color, background)\n",
    "#         self.create_noise_dots(im, random_color(238, 255,20))\n",
    "#         self.create_noise_curve(im, random_color(238, 255,20))\n",
    "#         im = im.filter(ImageFilter.SMOOTH)\n",
    "        return im\n",
    "    \n",
    "    \n",
    "    #rewrite func\n",
    "    def create_captcha_image(self, chars, color, background):\n",
    "        \"\"\"Create the CAPTCHA image itself.\n",
    "        :param chars: text to be generated.\n",
    "        :param color: color of the text.\n",
    "        :param background: color of the background.\n",
    "        The color should be a tuple of 3 numbers, such as (0, 255, 255).\n",
    "        \"\"\"\n",
    "        image = Image.new('RGB', (self._width, self._height), background)\n",
    "        draw = Draw(image)\n",
    "\n",
    "        def _draw_character(c):\n",
    "            color=random_color(10,200)\n",
    "            font = random.choice(self.truefonts)\n",
    "            w, h = draw.textsize(c, font=font)\n",
    "\n",
    "#             dx = random.randint(0, 4)\n",
    "#             dy = random.randint(0, 4)\n",
    "            dx = 2\n",
    "            dy = 2\n",
    "            im = Image.new('RGBA', (w, h),(255,255,255,0))\n",
    "            Draw(im).text((0, 0), c, font=font, fill=color)\n",
    "            im=im.crop((1,10,im.size[0]-1,im.size[1]-1))\n",
    "#             im.show()\n",
    "\n",
    "            # rotate\n",
    "#             im = im.crop(im.getbbox())\n",
    "            im = im.rotate(random.uniform(0,20), expand=1)\n",
    "\n",
    "            # warp\n",
    "            dx = w * random.uniform(0.1, 0.3)\n",
    "            dy = h * random.uniform(0.2, 0.3)\n",
    "#             dy = h * random.uniform(0.02, 0.2)\n",
    "\n",
    "            x1 = int(random.uniform(-dx, dx))\n",
    "            y1 = int(random.uniform(-dy, dy))\n",
    "            x2 = int(random.uniform(-dx, dx))\n",
    "            y2 = int(random.uniform(-dy, dy))\n",
    "            w2 = w + abs(x1) + abs(x2)\n",
    "            h2 = h + abs(y1) + abs(y2)\n",
    "            data = (\n",
    "                x1, y1,\n",
    "                -x1, h2 - y2,\n",
    "                w2 + x2, h2 + y2,\n",
    "                w2 - x2, -y1,\n",
    "            )\n",
    "            im = im.resize((w2, h2),Image.ANTIALIAS)\n",
    "            im = im.transform((w, h), Image.QUAD, data)\n",
    "#             im = im.resize((im.size[0], int(im.size[1]/2)))\n",
    "\n",
    "            mask=Image.new('RGBA',im.size,(255,)*4)\n",
    "            im=Image.composite(im,mask,im)\n",
    "            p=self._height/im.size[1]\n",
    "            im=im.resize((int(im.size[0]*p),self._height))\n",
    "            return im\n",
    "\n",
    "        images = []\n",
    "        for c in chars:\n",
    "# 等距生成\n",
    "#             if random.random() > 0.5:\n",
    "#             images.append(_draw_character(\" \"))\n",
    "            images.append(_draw_character(c))\n",
    "\n",
    "        text_width = sum([im.size[0] for im in images])\n",
    "\n",
    "        width = max(text_width, self._width)\n",
    "        image = image.resize((width, self._height),Image.ANTIALIAS)\n",
    "\n",
    "        average = int(text_width / len(chars))\n",
    "        rand = int(0.25 * average)\n",
    "        offset = int(average * 0.1)\n",
    "\n",
    "        for im in images:\n",
    "            im=im.resize((im.size[0],int(im.size[1]*(2/3))),Image.ANTIALIAS)\n",
    "            w, h = im.size\n",
    "#             mask = im.convert('L').point(table)\n",
    "#             mask = Image.new('RGBA')\n",
    "#             image.paste(im, (offset, int((self._height - h) / 2)), mask)\n",
    "            image.paste(im, (offset, int((self._height - h) / 2)))\n",
    "\n",
    "\n",
    "            offset = offset + w\n",
    "#             offset = offset + w -rand\n",
    "\n",
    "        if width > self._width:\n",
    "            image = image.resize((self._width, self._height),Image.ANTIALIAS)\n",
    "        return image\n",
    "def random_color(start, end, opacity=None):\n",
    "    red = random.randint(start, end)\n",
    "    green = random.randint(start, end)\n",
    "    blue = random.randint(start, end)\n",
    "    if opacity is None:\n",
    "        return (red, green, blue)\n",
    "    return (red, green, blue, opacity)"
   ]
  },
  {
   "cell_type": "code",
   "execution_count": 195,
   "metadata": {
    "ExecuteTime": {
     "end_time": "2019-06-16T06:50:55.086492Z",
     "start_time": "2019-06-16T06:50:55.077459Z"
    },
    "code_folding": []
   },
   "outputs": [],
   "source": [
    "from tensorflow.keras.utils import Sequence\n",
    "\n",
    "class CaptchaSequence(Sequence):\n",
    "    def __init__(self, characters, batch_size, steps, n_len=5, width=109, height=41):\n",
    "        self.characters = characters\n",
    "        self.batch_size = batch_size\n",
    "        self.steps = steps\n",
    "        self.n_len = n_len\n",
    "        self.width = width\n",
    "        self.height = height\n",
    "        self.n_class = len(characters)\n",
    "        self.generator = MyCaptcha(width=width, height=height,fonts=['./test/fonts/ARIALNB.ttf'])\n",
    "    \n",
    "    def __len__(self):\n",
    "        return self.steps\n",
    "\n",
    "    def __getitem__(self, idx):\n",
    "        X = np.zeros((self.batch_size, self.height, self.width, 3), dtype=np.float32)\n",
    "        y = [np.zeros((self.batch_size, self.n_class), dtype=np.uint8) for i in range(self.n_len)]\n",
    "        for i in range(self.batch_size):\n",
    "            random_str = ''.join([random.choice(self.characters) for j in range(self.n_len)])\n",
    "            X[i] = np.array(self.generator.generate_image(random_str)) / 255.0 #NNNNNN\n",
    "            for j, ch in enumerate(random_str):\n",
    "                y[j][i, :] = 0\n",
    "                y[j][i, self.characters.find(ch)] = 1\n",
    "        return X, y"
   ]
  },
  {
   "cell_type": "markdown",
   "metadata": {},
   "source": [
    "# 测试生成器"
   ]
  },
  {
   "cell_type": "code",
   "execution_count": 2,
   "metadata": {
    "ExecuteTime": {
     "end_time": "2019-06-16T06:50:55.270137Z",
     "start_time": "2019-06-16T06:50:55.087727Z"
    }
   },
   "outputs": [
    {
     "ename": "NameError",
     "evalue": "name 'CaptchaSequence' is not defined",
     "output_type": "error",
     "traceback": [
      "\u001b[1;31m---------------------------------------------------------------------------\u001b[0m",
      "\u001b[1;31mNameError\u001b[0m                                 Traceback (most recent call last)",
      "\u001b[1;32m<ipython-input-2-9c76852312ec>\u001b[0m in \u001b[0;36m<module>\u001b[1;34m\u001b[0m\n\u001b[0;32m      3\u001b[0m     \u001b[1;32mreturn\u001b[0m \u001b[1;34m''\u001b[0m\u001b[1;33m.\u001b[0m\u001b[0mjoin\u001b[0m\u001b[1;33m(\u001b[0m\u001b[1;33m[\u001b[0m\u001b[0mcharacters\u001b[0m\u001b[1;33m[\u001b[0m\u001b[0mx\u001b[0m\u001b[1;33m]\u001b[0m \u001b[1;32mfor\u001b[0m \u001b[0mx\u001b[0m \u001b[1;32min\u001b[0m \u001b[0my\u001b[0m\u001b[1;33m]\u001b[0m\u001b[1;33m)\u001b[0m\u001b[1;33m\u001b[0m\u001b[1;33m\u001b[0m\u001b[0m\n\u001b[0;32m      4\u001b[0m \u001b[1;33m\u001b[0m\u001b[0m\n\u001b[1;32m----> 5\u001b[1;33m \u001b[0mdata\u001b[0m \u001b[1;33m=\u001b[0m \u001b[0mCaptchaSequence\u001b[0m\u001b[1;33m(\u001b[0m\u001b[0mcharacters\u001b[0m\u001b[1;33m,\u001b[0m \u001b[0mbatch_size\u001b[0m\u001b[1;33m=\u001b[0m\u001b[1;36m10\u001b[0m\u001b[1;33m,\u001b[0m \u001b[0msteps\u001b[0m\u001b[1;33m=\u001b[0m\u001b[1;36m5\u001b[0m\u001b[1;33m)\u001b[0m\u001b[1;33m\u001b[0m\u001b[1;33m\u001b[0m\u001b[0m\n\u001b[0m\u001b[0;32m      6\u001b[0m \u001b[0mX\u001b[0m\u001b[1;33m,\u001b[0m \u001b[0my\u001b[0m \u001b[1;33m=\u001b[0m \u001b[0mdata\u001b[0m\u001b[1;33m[\u001b[0m\u001b[1;36m3\u001b[0m\u001b[1;33m]\u001b[0m\u001b[1;33m\u001b[0m\u001b[1;33m\u001b[0m\u001b[0m\n\u001b[0;32m      7\u001b[0m \u001b[0mprint\u001b[0m\u001b[1;33m(\u001b[0m\u001b[0mX\u001b[0m\u001b[1;33m.\u001b[0m\u001b[0mshape\u001b[0m\u001b[1;33m)\u001b[0m\u001b[1;33m\u001b[0m\u001b[1;33m\u001b[0m\u001b[0m\n",
      "\u001b[1;31mNameError\u001b[0m: name 'CaptchaSequence' is not defined"
     ]
    }
   ],
   "source": [
    "def decode(y):\n",
    "    y = np.argmax(np.array(y), axis=2)[:,0]\n",
    "    return ''.join([characters[x] for x in y])\n",
    "\n",
    "data = CaptchaSequence(characters, batch_size=10, steps=5)\n",
    "X, y = data[3]\n",
    "print(X.shape)\n",
    "plt.imshow(X[1])\n",
    "print(y)\n",
    "plt.title(decode(y))"
   ]
  },
  {
   "cell_type": "markdown",
   "metadata": {},
   "source": [
    "# 定义网络结构"
   ]
  },
  {
   "cell_type": "code",
   "execution_count": 202,
   "metadata": {
    "ExecuteTime": {
     "end_time": "2019-06-16T06:50:55.858663Z",
     "start_time": "2019-06-16T06:50:55.271265Z"
    }
   },
   "outputs": [],
   "source": [
    "from tensorflow.keras.models import *\n",
    "from tensorflow.keras.layers import *\n",
    "\n",
    "input_tensor = Input((height, width, 3))\n",
    "x = input_tensor\n",
    "for i, n_cnn in enumerate([2, 2, 2, 2, 2]):\n",
    "    for j in range(n_cnn):\n",
    "        x = Conv2D(32*2**min(i, 3), kernel_size=3, padding='same', kernel_initializer='he_uniform')(x)\n",
    "        x = BatchNormalization()(x)\n",
    "        x = Activation('relu')(x)\n",
    "    x = MaxPooling2D(2)(x)\n",
    "\n",
    "x = Flatten()(x)\n",
    "x = [Dense(n_class, activation='softmax', name='c%d'%(i+1))(x) for i in range(n_len)]\n",
    "model = Model(inputs=input_tensor, outputs=x)"
   ]
  },
  {
   "cell_type": "markdown",
   "metadata": {},
   "source": [
    "# 网络结构可视化\n",
    "\n",
    "可视化需要安装下面的包：\n",
    "\n",
    "```sh\n",
    "pip install pydot\n",
    "sudo apt install graphviz\n",
    "```"
   ]
  },
  {
   "cell_type": "code",
   "execution_count": 203,
   "metadata": {
    "ExecuteTime": {
     "end_time": "2019-06-16T06:50:56.142853Z",
     "start_time": "2019-06-16T06:50:55.860085Z"
    },
    "scrolled": false
   },
   "outputs": [],
   "source": [
    "# from tensorflow.keras.utils import plot_model\n",
    "# from IPython.display import Image\n",
    "\n",
    "# plot_model(model, to_file='cnn.png', show_shapes=True)\n",
    "# Image('cnn.png')"
   ]
  },
  {
   "cell_type": "code",
   "execution_count": 204,
   "metadata": {
    "ExecuteTime": {
     "end_time": "2019-06-16T06:50:56.164154Z",
     "start_time": "2019-06-16T06:50:56.145970Z"
    }
   },
   "outputs": [
    {
     "name": "stdout",
     "output_type": "stream",
     "text": [
      "__________________________________________________________________________________________________\n",
      "Layer (type)                    Output Shape         Param #     Connected to                     \n",
      "==================================================================================================\n",
      "input_5 (InputLayer)            (None, 41, 109, 3)   0                                            \n",
      "__________________________________________________________________________________________________\n",
      "conv2d_40 (Conv2D)              (None, 41, 109, 32)  896         input_5[0][0]                    \n",
      "__________________________________________________________________________________________________\n",
      "batch_normalization_40 (BatchNo (None, 41, 109, 32)  128         conv2d_40[0][0]                  \n",
      "__________________________________________________________________________________________________\n",
      "activation_40 (Activation)      (None, 41, 109, 32)  0           batch_normalization_40[0][0]     \n",
      "__________________________________________________________________________________________________\n",
      "conv2d_41 (Conv2D)              (None, 41, 109, 32)  9248        activation_40[0][0]              \n",
      "__________________________________________________________________________________________________\n",
      "batch_normalization_41 (BatchNo (None, 41, 109, 32)  128         conv2d_41[0][0]                  \n",
      "__________________________________________________________________________________________________\n",
      "activation_41 (Activation)      (None, 41, 109, 32)  0           batch_normalization_41[0][0]     \n",
      "__________________________________________________________________________________________________\n",
      "max_pooling2d_20 (MaxPooling2D) (None, 20, 54, 32)   0           activation_41[0][0]              \n",
      "__________________________________________________________________________________________________\n",
      "conv2d_42 (Conv2D)              (None, 20, 54, 64)   18496       max_pooling2d_20[0][0]           \n",
      "__________________________________________________________________________________________________\n",
      "batch_normalization_42 (BatchNo (None, 20, 54, 64)   256         conv2d_42[0][0]                  \n",
      "__________________________________________________________________________________________________\n",
      "activation_42 (Activation)      (None, 20, 54, 64)   0           batch_normalization_42[0][0]     \n",
      "__________________________________________________________________________________________________\n",
      "conv2d_43 (Conv2D)              (None, 20, 54, 64)   36928       activation_42[0][0]              \n",
      "__________________________________________________________________________________________________\n",
      "batch_normalization_43 (BatchNo (None, 20, 54, 64)   256         conv2d_43[0][0]                  \n",
      "__________________________________________________________________________________________________\n",
      "activation_43 (Activation)      (None, 20, 54, 64)   0           batch_normalization_43[0][0]     \n",
      "__________________________________________________________________________________________________\n",
      "max_pooling2d_21 (MaxPooling2D) (None, 10, 27, 64)   0           activation_43[0][0]              \n",
      "__________________________________________________________________________________________________\n",
      "conv2d_44 (Conv2D)              (None, 10, 27, 128)  73856       max_pooling2d_21[0][0]           \n",
      "__________________________________________________________________________________________________\n",
      "batch_normalization_44 (BatchNo (None, 10, 27, 128)  512         conv2d_44[0][0]                  \n",
      "__________________________________________________________________________________________________\n",
      "activation_44 (Activation)      (None, 10, 27, 128)  0           batch_normalization_44[0][0]     \n",
      "__________________________________________________________________________________________________\n",
      "conv2d_45 (Conv2D)              (None, 10, 27, 128)  147584      activation_44[0][0]              \n",
      "__________________________________________________________________________________________________\n",
      "batch_normalization_45 (BatchNo (None, 10, 27, 128)  512         conv2d_45[0][0]                  \n",
      "__________________________________________________________________________________________________\n",
      "activation_45 (Activation)      (None, 10, 27, 128)  0           batch_normalization_45[0][0]     \n",
      "__________________________________________________________________________________________________\n",
      "max_pooling2d_22 (MaxPooling2D) (None, 5, 13, 128)   0           activation_45[0][0]              \n",
      "__________________________________________________________________________________________________\n",
      "conv2d_46 (Conv2D)              (None, 5, 13, 256)   295168      max_pooling2d_22[0][0]           \n",
      "__________________________________________________________________________________________________\n",
      "batch_normalization_46 (BatchNo (None, 5, 13, 256)   1024        conv2d_46[0][0]                  \n",
      "__________________________________________________________________________________________________\n",
      "activation_46 (Activation)      (None, 5, 13, 256)   0           batch_normalization_46[0][0]     \n",
      "__________________________________________________________________________________________________\n",
      "conv2d_47 (Conv2D)              (None, 5, 13, 256)   590080      activation_46[0][0]              \n",
      "__________________________________________________________________________________________________\n",
      "batch_normalization_47 (BatchNo (None, 5, 13, 256)   1024        conv2d_47[0][0]                  \n",
      "__________________________________________________________________________________________________\n",
      "activation_47 (Activation)      (None, 5, 13, 256)   0           batch_normalization_47[0][0]     \n",
      "__________________________________________________________________________________________________\n",
      "max_pooling2d_23 (MaxPooling2D) (None, 2, 6, 256)    0           activation_47[0][0]              \n",
      "__________________________________________________________________________________________________\n",
      "conv2d_48 (Conv2D)              (None, 2, 6, 256)    590080      max_pooling2d_23[0][0]           \n",
      "__________________________________________________________________________________________________\n",
      "batch_normalization_48 (BatchNo (None, 2, 6, 256)    1024        conv2d_48[0][0]                  \n",
      "__________________________________________________________________________________________________\n",
      "activation_48 (Activation)      (None, 2, 6, 256)    0           batch_normalization_48[0][0]     \n",
      "__________________________________________________________________________________________________\n",
      "conv2d_49 (Conv2D)              (None, 2, 6, 256)    590080      activation_48[0][0]              \n",
      "__________________________________________________________________________________________________\n",
      "batch_normalization_49 (BatchNo (None, 2, 6, 256)    1024        conv2d_49[0][0]                  \n",
      "__________________________________________________________________________________________________\n",
      "activation_49 (Activation)      (None, 2, 6, 256)    0           batch_normalization_49[0][0]     \n",
      "__________________________________________________________________________________________________\n",
      "max_pooling2d_24 (MaxPooling2D) (None, 1, 3, 256)    0           activation_49[0][0]              \n",
      "__________________________________________________________________________________________________\n",
      "flatten_4 (Flatten)             (None, 768)          0           max_pooling2d_24[0][0]           \n",
      "__________________________________________________________________________________________________\n",
      "c1 (Dense)                      (None, 10)           7690        flatten_4[0][0]                  \n",
      "__________________________________________________________________________________________________\n",
      "c2 (Dense)                      (None, 10)           7690        flatten_4[0][0]                  \n",
      "__________________________________________________________________________________________________\n",
      "c3 (Dense)                      (None, 10)           7690        flatten_4[0][0]                  \n",
      "__________________________________________________________________________________________________\n",
      "c4 (Dense)                      (None, 10)           7690        flatten_4[0][0]                  \n",
      "__________________________________________________________________________________________________\n",
      "c5 (Dense)                      (None, 10)           7690        flatten_4[0][0]                  \n",
      "==================================================================================================\n",
      "Total params: 2,396,754\n",
      "Trainable params: 2,393,810\n",
      "Non-trainable params: 2,944\n",
      "__________________________________________________________________________________________________\n"
     ]
    }
   ],
   "source": [
    "model.summary()"
   ]
  },
  {
   "cell_type": "markdown",
   "metadata": {},
   "source": [
    "# 训练模型"
   ]
  },
  {
   "cell_type": "code",
   "execution_count": 205,
   "metadata": {
    "ExecuteTime": {
     "end_time": "2019-06-16T07:23:32.907096Z",
     "start_time": "2019-06-16T06:50:56.167239Z"
    },
    "scrolled": false
   },
   "outputs": [],
   "source": [
    "from tensorflow.keras.callbacks import EarlyStopping, CSVLogger, ModelCheckpoint\n",
    "from tensorflow.keras.optimizers import *\n",
    "\n",
    "train_data = CaptchaSequence(characters, batch_size=128, steps=500)\n",
    "valid_data = CaptchaSequence(characters, batch_size=128, steps=50)\n",
    "callbacks = [EarlyStopping(patience=3), CSVLogger('cnn.csv'), ModelCheckpoint('cnn_best.h5', save_best_only=True)]\n",
    "\n",
    "model.compile(loss='categorical_crossentropy',\n",
    "              optimizer=Adam(1e-3, amsgrad=True), \n",
    "              metrics=['accuracy'])\n"
   ]
  },
  {
   "cell_type": "code",
   "execution_count": 206,
   "metadata": {},
   "outputs": [
    {
     "name": "stdout",
     "output_type": "stream",
     "text": [
      "Epoch 1/1\n",
      "500/500 [==============================] - 482s 964ms/step - loss: 0.7818 - c1_loss: 0.1615 - c2_loss: 0.1496 - c3_loss: 0.1522 - c4_loss: 0.1518 - c5_loss: 0.1667 - c1_acc: 0.9473 - c2_acc: 0.9524 - c3_acc: 0.9513 - c4_acc: 0.9513 - c5_acc: 0.9452 - val_loss: 0.0058 - val_c1_loss: 9.8410e-04 - val_c2_loss: 0.0012 - val_c3_loss: 0.0011 - val_c4_loss: 0.0012 - val_c5_loss: 0.0013 - val_c1_acc: 1.0000 - val_c2_acc: 1.0000 - val_c3_acc: 1.0000 - val_c4_acc: 1.0000 - val_c5_acc: 1.0000\n"
     ]
    },
    {
     "data": {
      "text/plain": [
       "<tensorflow.python.keras.callbacks.History at 0x2a8f4749e80>"
      ]
     },
     "execution_count": 206,
     "metadata": {},
     "output_type": "execute_result"
    }
   ],
   "source": [
    "model.fit_generator(train_data, epochs=1, workers=4,validation_data=valid_data)\n",
    "# model.fit_generator(train_data, epochs=100, validation_data=valid_data, workers=4, use_multiprocessing=True,\n",
    "#                     callbacks=callbacks)"
   ]
  },
  {
   "cell_type": "code",
   "execution_count": 80,
   "metadata": {},
   "outputs": [],
   "source": [
    "model.save('result.h5')"
   ]
  },
  {
   "cell_type": "markdown",
   "metadata": {},
   "source": [
    "### 载入最好的模型继续训练一会"
   ]
  },
  {
   "cell_type": "code",
   "execution_count": 9,
   "metadata": {
    "ExecuteTime": {
     "end_time": "2019-06-16T07:50:24.448235Z",
     "start_time": "2019-06-16T07:23:32.909470Z"
    }
   },
   "outputs": [
    {
     "name": "stdout",
     "output_type": "stream",
     "text": [
      "Epoch 1/100\n",
      "100/100 [==============================] - 11s 112ms/step - loss: 0.0601 - c1_loss: 0.0147 - c2_loss: 0.0165 - c3_loss: 0.0169 - c4_loss: 0.0120 - c1_acc: 0.9951 - c2_acc: 0.9939 - c3_acc: 0.9935 - c4_acc: 0.9952\n",
      "1000/1000 [==============================] - 128s 128ms/step - loss: 0.0586 - c1_loss: 0.0135 - c2_loss: 0.0160 - c3_loss: 0.0155 - c4_loss: 0.0136 - c1_acc: 0.9946 - c2_acc: 0.9937 - c3_acc: 0.9940 - c4_acc: 0.9948 - val_loss: 0.0601 - val_c1_loss: 0.0147 - val_c2_loss: 0.0165 - val_c3_loss: 0.0169 - val_c4_loss: 0.0120 - val_c1_acc: 0.9951 - val_c2_acc: 0.9939 - val_c3_acc: 0.9935 - val_c4_acc: 0.9952\n",
      "Epoch 2/100\n",
      "100/100 [==============================] - 11s 111ms/step - loss: 0.0578 - c1_loss: 0.0118 - c2_loss: 0.0172 - c3_loss: 0.0156 - c4_loss: 0.0132 - c1_acc: 0.9956 - c2_acc: 0.9928 - c3_acc: 0.9937 - c4_acc: 0.9948\n",
      "1000/1000 [==============================] - 125s 125ms/step - loss: 0.0550 - c1_loss: 0.0118 - c2_loss: 0.0153 - c3_loss: 0.0152 - c4_loss: 0.0127 - c1_acc: 0.9954 - c2_acc: 0.9942 - c3_acc: 0.9940 - c4_acc: 0.9949 - val_loss: 0.0578 - val_c1_loss: 0.0118 - val_c2_loss: 0.0172 - val_c3_loss: 0.0156 - val_c4_loss: 0.0132 - val_c1_acc: 0.9956 - val_c2_acc: 0.9928 - val_c3_acc: 0.9937 - val_c4_acc: 0.9948\n",
      "Epoch 3/100\n",
      "100/100 [==============================] - 11s 113ms/step - loss: 0.0538 - c1_loss: 0.0107 - c2_loss: 0.0150 - c3_loss: 0.0146 - c4_loss: 0.0135 - c1_acc: 0.9958 - c2_acc: 0.9941 - c3_acc: 0.9949 - c4_acc: 0.9945\n",
      "1000/1000 [==============================] - 118s 118ms/step - loss: 0.0527 - c1_loss: 0.0119 - c2_loss: 0.0144 - c3_loss: 0.0149 - c4_loss: 0.0115 - c1_acc: 0.9952 - c2_acc: 0.9943 - c3_acc: 0.9942 - c4_acc: 0.9954 - val_loss: 0.0538 - val_c1_loss: 0.0107 - val_c2_loss: 0.0150 - val_c3_loss: 0.0146 - val_c4_loss: 0.0135 - val_c1_acc: 0.9958 - val_c2_acc: 0.9941 - val_c3_acc: 0.9949 - val_c4_acc: 0.9945\n",
      "Epoch 4/100\n",
      "100/100 [==============================] - 11s 112ms/step - loss: 0.0496 - c1_loss: 0.0116 - c2_loss: 0.0147 - c3_loss: 0.0126 - c4_loss: 0.0106 - c1_acc: 0.9956 - c2_acc: 0.9937 - c3_acc: 0.9954 - c4_acc: 0.9960\n",
      "1000/1000 [==============================] - 126s 126ms/step - loss: 0.0507 - c1_loss: 0.0115 - c2_loss: 0.0138 - c3_loss: 0.0132 - c4_loss: 0.0122 - c1_acc: 0.9954 - c2_acc: 0.9945 - c3_acc: 0.9948 - c4_acc: 0.9953 - val_loss: 0.0496 - val_c1_loss: 0.0116 - val_c2_loss: 0.0147 - val_c3_loss: 0.0126 - val_c4_loss: 0.0106 - val_c1_acc: 0.9956 - val_c2_acc: 0.9937 - val_c3_acc: 0.9954 - val_c4_acc: 0.9960\n",
      "Epoch 5/100\n",
      "100/100 [==============================] - 11s 112ms/step - loss: 0.0504 - c1_loss: 0.0109 - c2_loss: 0.0152 - c3_loss: 0.0139 - c4_loss: 0.0103 - c1_acc: 0.9948 - c2_acc: 0.9948 - c3_acc: 0.9947 - c4_acc: 0.9962\n",
      "1000/1000 [==============================] - 124s 124ms/step - loss: 0.0501 - c1_loss: 0.0107 - c2_loss: 0.0141 - c3_loss: 0.0134 - c4_loss: 0.0119 - c1_acc: 0.9958 - c2_acc: 0.9944 - c3_acc: 0.9948 - c4_acc: 0.9954 - val_loss: 0.0504 - val_c1_loss: 0.0109 - val_c2_loss: 0.0152 - val_c3_loss: 0.0139 - val_c4_loss: 0.0103 - val_c1_acc: 0.9948 - val_c2_acc: 0.9948 - val_c3_acc: 0.9947 - val_c4_acc: 0.9962\n",
      "Epoch 6/100\n",
      "100/100 [==============================] - 11s 111ms/step - loss: 0.0573 - c1_loss: 0.0127 - c2_loss: 0.0159 - c3_loss: 0.0158 - c4_loss: 0.0129 - c1_acc: 0.9952 - c2_acc: 0.9937 - c3_acc: 0.9935 - c4_acc: 0.9945\n",
      "1000/1000 [==============================] - 119s 119ms/step - loss: 0.0476 - c1_loss: 0.0105 - c2_loss: 0.0134 - c3_loss: 0.0130 - c4_loss: 0.0107 - c1_acc: 0.9958 - c2_acc: 0.9950 - c3_acc: 0.9949 - c4_acc: 0.9957 - val_loss: 0.0573 - val_c1_loss: 0.0127 - val_c2_loss: 0.0159 - val_c3_loss: 0.0158 - val_c4_loss: 0.0129 - val_c1_acc: 0.9952 - val_c2_acc: 0.9937 - val_c3_acc: 0.9935 - val_c4_acc: 0.9945\n",
      "Epoch 7/100\n",
      "100/100 [==============================] - 11s 110ms/step - loss: 0.0483 - c1_loss: 0.0110 - c2_loss: 0.0136 - c3_loss: 0.0132 - c4_loss: 0.0106 - c1_acc: 0.9954 - c2_acc: 0.9944 - c3_acc: 0.9952 - c4_acc: 0.9959\n",
      "1000/1000 [==============================] - 125s 125ms/step - loss: 0.0472 - c1_loss: 0.0101 - c2_loss: 0.0133 - c3_loss: 0.0131 - c4_loss: 0.0107 - c1_acc: 0.9962 - c2_acc: 0.9949 - c3_acc: 0.9948 - c4_acc: 0.9960 - val_loss: 0.0483 - val_c1_loss: 0.0110 - val_c2_loss: 0.0136 - val_c3_loss: 0.0132 - val_c4_loss: 0.0106 - val_c1_acc: 0.9954 - val_c2_acc: 0.9944 - val_c3_acc: 0.9952 - val_c4_acc: 0.9959\n",
      "Epoch 8/100\n",
      "100/100 [==============================] - 11s 112ms/step - loss: 0.0511 - c1_loss: 0.0118 - c2_loss: 0.0150 - c3_loss: 0.0125 - c4_loss: 0.0119 - c1_acc: 0.9953 - c2_acc: 0.9947 - c3_acc: 0.9956 - c4_acc: 0.9947\n",
      "1000/1000 [==============================] - 125s 125ms/step - loss: 0.0457 - c1_loss: 0.0101 - c2_loss: 0.0121 - c3_loss: 0.0128 - c4_loss: 0.0107 - c1_acc: 0.9960 - c2_acc: 0.9952 - c3_acc: 0.9952 - c4_acc: 0.9960 - val_loss: 0.0511 - val_c1_loss: 0.0118 - val_c2_loss: 0.0150 - val_c3_loss: 0.0125 - val_c4_loss: 0.0119 - val_c1_acc: 0.9953 - val_c2_acc: 0.9947 - val_c3_acc: 0.9956 - val_c4_acc: 0.9947\n",
      "Epoch 9/100\n",
      "100/100 [==============================] - 11s 112ms/step - loss: 0.0491 - c1_loss: 0.0123 - c2_loss: 0.0122 - c3_loss: 0.0121 - c4_loss: 0.0125 - c1_acc: 0.9956 - c2_acc: 0.9950 - c3_acc: 0.9958 - c4_acc: 0.9948\n",
      "1000/1000 [==============================] - 117s 117ms/step - loss: 0.0434 - c1_loss: 0.0100 - c2_loss: 0.0120 - c3_loss: 0.0120 - c4_loss: 0.0094 - c1_acc: 0.9960 - c2_acc: 0.9953 - c3_acc: 0.9955 - c4_acc: 0.9964 - val_loss: 0.0491 - val_c1_loss: 0.0123 - val_c2_loss: 0.0122 - val_c3_loss: 0.0121 - val_c4_loss: 0.0125 - val_c1_acc: 0.9956 - val_c2_acc: 0.9950 - val_c3_acc: 0.9958 - val_c4_acc: 0.9948\n",
      "Epoch 10/100\n",
      "100/100 [==============================] - 11s 111ms/step - loss: 0.0417 - c1_loss: 0.0086 - c2_loss: 0.0124 - c3_loss: 0.0107 - c4_loss: 0.0100 - c1_acc: 0.9962 - c2_acc: 0.9954 - c3_acc: 0.9964 - c4_acc: 0.9963\n",
      "1000/1000 [==============================] - 125s 125ms/step - loss: 0.0452 - c1_loss: 0.0103 - c2_loss: 0.0124 - c3_loss: 0.0126 - c4_loss: 0.0100 - c1_acc: 0.9959 - c2_acc: 0.9950 - c3_acc: 0.9953 - c4_acc: 0.9961 - val_loss: 0.0417 - val_c1_loss: 0.0086 - val_c2_loss: 0.0124 - val_c3_loss: 0.0107 - val_c4_loss: 0.0100 - val_c1_acc: 0.9962 - val_c2_acc: 0.9954 - val_c3_acc: 0.9964 - val_c4_acc: 0.9963\n",
      "Epoch 11/100\n",
      "100/100 [==============================] - 11s 113ms/step - loss: 0.0642 - c1_loss: 0.0130 - c2_loss: 0.0190 - c3_loss: 0.0174 - c4_loss: 0.0149 - c1_acc: 0.9946 - c2_acc: 0.9926 - c3_acc: 0.9930 - c4_acc: 0.9943\n",
      "1000/1000 [==============================] - 126s 126ms/step - loss: 0.0450 - c1_loss: 0.0107 - c2_loss: 0.0120 - c3_loss: 0.0124 - c4_loss: 0.0099 - c1_acc: 0.9958 - c2_acc: 0.9955 - c3_acc: 0.9951 - c4_acc: 0.9962 - val_loss: 0.0642 - val_c1_loss: 0.0130 - val_c2_loss: 0.0190 - val_c3_loss: 0.0174 - val_c4_loss: 0.0149 - val_c1_acc: 0.9946 - val_c2_acc: 0.9926 - val_c3_acc: 0.9930 - val_c4_acc: 0.9943\n",
      "Epoch 12/100\n",
      "100/100 [==============================] - 11s 111ms/step - loss: 0.0448 - c1_loss: 0.0103 - c2_loss: 0.0130 - c3_loss: 0.0110 - c4_loss: 0.0106 - c1_acc: 0.9963 - c2_acc: 0.9946 - c3_acc: 0.9956 - c4_acc: 0.9955\n",
      "1000/1000 [==============================] - 117s 117ms/step - loss: 0.0430 - c1_loss: 0.0103 - c2_loss: 0.0120 - c3_loss: 0.0120 - c4_loss: 0.0087 - c1_acc: 0.9960 - c2_acc: 0.9952 - c3_acc: 0.9953 - c4_acc: 0.9965 - val_loss: 0.0448 - val_c1_loss: 0.0103 - val_c2_loss: 0.0130 - val_c3_loss: 0.0110 - val_c4_loss: 0.0106 - val_c1_acc: 0.9963 - val_c2_acc: 0.9946 - val_c3_acc: 0.9956 - val_c4_acc: 0.9955\n",
      "Epoch 13/100\n",
      "100/100 [==============================] - 11s 111ms/step - loss: 0.0443 - c1_loss: 0.0096 - c2_loss: 0.0130 - c3_loss: 0.0129 - c4_loss: 0.0089 - c1_acc: 0.9957 - c2_acc: 0.9953 - c3_acc: 0.9952 - c4_acc: 0.9966\n",
      "1000/1000 [==============================] - 126s 126ms/step - loss: 0.0433 - c1_loss: 0.0100 - c2_loss: 0.0121 - c3_loss: 0.0116 - c4_loss: 0.0096 - c1_acc: 0.9960 - c2_acc: 0.9952 - c3_acc: 0.9957 - c4_acc: 0.9963 - val_loss: 0.0443 - val_c1_loss: 0.0096 - val_c2_loss: 0.0130 - val_c3_loss: 0.0129 - val_c4_loss: 0.0089 - val_c1_acc: 0.9957 - val_c2_acc: 0.9953 - val_c3_acc: 0.9952 - val_c4_acc: 0.9966\n"
     ]
    },
    {
     "data": {
      "text/plain": [
       "<tensorflow.python.keras.callbacks.History at 0x7fd794575080>"
      ]
     },
     "execution_count": 9,
     "metadata": {},
     "output_type": "execute_result"
    }
   ],
   "source": [
    "model.load_weights('cnn_best.h5')\n",
    "\n",
    "callbacks = [EarlyStopping(patience=3), CSVLogger('cnn.csv', append=True), \n",
    "             ModelCheckpoint('cnn_best.h5', save_best_only=True)]\n",
    "\n",
    "model.compile(loss='categorical_crossentropy',\n",
    "              optimizer=Adam(1e-4, amsgrad=True), \n",
    "              metrics=['accuracy'])\n",
    "model.fit_generator(train_data, epochs=100, validation_data=valid_data, workers=4, use_multiprocessing=True,\n",
    "                    callbacks=callbacks)"
   ]
  },
  {
   "cell_type": "code",
   "execution_count": 10,
   "metadata": {
    "ExecuteTime": {
     "end_time": "2019-06-16T07:50:24.503998Z",
     "start_time": "2019-06-16T07:50:24.450513Z"
    }
   },
   "outputs": [],
   "source": [
    "model.load_weights('cnn_best.h5')"
   ]
  },
  {
   "cell_type": "markdown",
   "metadata": {},
   "source": [
    "# 测试模型"
   ]
  },
  {
   "cell_type": "code",
   "execution_count": 209,
   "metadata": {
    "ExecuteTime": {
     "end_time": "2019-06-16T07:50:25.239664Z",
     "start_time": "2019-06-16T07:50:24.505655Z"
    }
   },
   "outputs": [
    {
     "data": {
      "text/plain": [
       "(-0.5, 108.5, 40.5, -0.5)"
      ]
     },
     "execution_count": 209,
     "metadata": {},
     "output_type": "execute_result"
    },
    {
     "data": {
      "image/png": "[encoded data removed]",
      "text/plain": [
       "<Figure size 432x288 with 1 Axes>"
      ]
     },
     "metadata": {
      "image/png": {
       "height": 169,
       "width": 349
      },
      "needs_background": "light"
     },
     "output_type": "display_data"
    }
   ],
   "source": [
    "X, y = data[0]\n",
    "# print(X[0])\n",
    "y_pred = model.predict(X)\n",
    "plt.title('real: %s\\npred:%s'%(decode(y), decode(y_pred)))\n",
    "plt.imshow(X[0], cmap='gray')\n",
    "plt.axis('off')"
   ]
  },
  {
   "cell_type": "markdown",
   "metadata": {},
   "source": [
    "# 计算模型总体准确率"
   ]
  },
  {
   "cell_type": "code",
   "execution_count": 12,
   "metadata": {
    "ExecuteTime": {
     "end_time": "2019-06-16T07:51:08.652629Z",
     "start_time": "2019-06-16T07:50:25.241494Z"
    }
   },
   "outputs": [
    {
     "name": "stderr",
     "output_type": "stream",
     "text": [
      "100%|██████████| 100/100 [00:43<00:00,  2.29it/s]\n"
     ]
    },
    {
     "data": {
      "text/plain": [
       "0.98265625"
      ]
     },
     "execution_count": 12,
     "metadata": {},
     "output_type": "execute_result"
    }
   ],
   "source": [
    "from tqdm import tqdm\n",
    "def evaluate(model, batch_num=100):\n",
    "    batch_acc = 0\n",
    "    with tqdm(CaptchaSequence(characters, batch_size=128, steps=100)) as pbar:\n",
    "        for X, y in pbar:\n",
    "            y_pred = model.predict(X)\n",
    "            y_pred = np.argmax(y_pred, axis=-1).T\n",
    "            y_true = np.argmax(y, axis=-1).T\n",
    "\n",
    "            batch_acc += (y_true == y_pred).all(axis=-1).mean()\n",
    "    return batch_acc / batch_num\n",
    "\n",
    "evaluate(model)"
   ]
  },
  {
   "cell_type": "markdown",
   "metadata": {},
   "source": [
    "# 保存模型"
   ]
  },
  {
   "cell_type": "code",
   "execution_count": 13,
   "metadata": {
    "ExecuteTime": {
     "end_time": "2019-06-16T07:51:08.720802Z",
     "start_time": "2019-06-16T07:51:08.654545Z"
    }
   },
   "outputs": [],
   "source": [
    "model.save('cnn.h5', include_optimizer=False)"
   ]
  },
  {
   "cell_type": "markdown",
   "metadata": {},
   "source": [
    "# 可视化训练曲线\n",
    "\n",
    "```sh\n",
    "pip install pandas\n",
    "```"
   ]
  },
  {
   "cell_type": "code",
   "execution_count": 14,
   "metadata": {
    "ExecuteTime": {
     "end_time": "2019-06-16T07:51:08.886141Z",
     "start_time": "2019-06-16T07:51:08.722437Z"
    }
   },
   "outputs": [
    {
     "data": {
      "text/plain": [
       "<matplotlib.axes._subplots.AxesSubplot at 0x7fd797fa9ac8>"
      ]
     },
     "execution_count": 14,
     "metadata": {},
     "output_type": "execute_result"
    },
    {
     "data": {
      "image/png": "[encoded data removed]",
      "text/plain": [
       "<Figure size 432x288 with 1 Axes>"
      ]
     },
     "metadata": {
      "image/png": {
       "height": 250,
       "width": 364
      }
     },
     "output_type": "display_data"
    }
   ],
   "source": [
    "import pandas as pd\n",
    "\n",
    "df = pd.read_csv('cnn.csv')\n",
    "df[['loss', 'val_loss']].plot()"
   ]
  },
  {
   "cell_type": "code",
   "execution_count": 15,
   "metadata": {
    "ExecuteTime": {
     "end_time": "2019-06-16T07:51:09.242749Z",
     "start_time": "2019-06-16T07:51:08.887386Z"
    }
   },
   "outputs": [
    {
     "data": {
      "text/plain": [
       "<matplotlib.axes._subplots.AxesSubplot at 0x7fd797ec0ac8>"
      ]
     },
     "execution_count": 15,
     "metadata": {},
     "output_type": "execute_result"
    },
    {
     "data": {
      "image/png": "[encoded data removed]",
      "text/plain": [
       "<Figure size 432x288 with 1 Axes>"
      ]
     },
     "metadata": {
      "image/png": {
       "height": 250,
       "width": 381
      }
     },
     "output_type": "display_data"
    }
   ],
   "source": [
    "df[['loss', 'val_loss']].plot(logy=True)"
   ]
  },
  {
   "cell_type": "code",
   "execution_count": 11,
   "metadata": {},
   "outputs": [],
   "source": [
    "from tensorflow.keras.models import load_model\n",
    "model=load_model('./result.h5')"
   ]
  },
  {
   "cell_type": "code",
   "execution_count": 18,
   "metadata": {},
   "outputs": [
    {
     "name": "stdout",
     "output_type": "stream",
     "text": [
      "[[[219 219 219]\n",
      "  [221 221 221]\n",
      "  [222 222 222]\n",
      "  ...\n",
      "  [255 255 255]\n",
      "  [255 255 255]\n",
      "  [255 255 255]]\n",
      "\n",
      " [[254 254 254]\n",
      "  [255 255 255]\n",
      "  [255 255 255]\n",
      "  ...\n",
      "  [250 250 250]\n",
      "  [255 255 255]\n",
      "  [255 255 255]]\n",
      "\n",
      " [[255 255 255]\n",
      "  [251 251 251]\n",
      "  [236 236 236]\n",
      "  ...\n",
      "  [252 252 252]\n",
      "  [255 255 255]\n",
      "  [255 255 255]]\n",
      "\n",
      " ...\n",
      "\n",
      " [[254 254 254]\n",
      "  [255 255 255]\n",
      "  [255 255 255]\n",
      "  ...\n",
      "  [255 255 255]\n",
      "  [255 255 255]\n",
      "  [255 255 255]]\n",
      "\n",
      " [[255 255 255]\n",
      "  [255 255 255]\n",
      "  [255 255 255]\n",
      "  ...\n",
      "  [255 255 255]\n",
      "  [255 255 255]\n",
      "  [255 255 255]]\n",
      "\n",
      " [[220 220 220]\n",
      "  [220 220 220]\n",
      "  [220 220 220]\n",
      "  ...\n",
      "  [255 255 255]\n",
      "  [255 255 255]\n",
      "  [255 255 255]]]\n"
     ]
    }
   ],
   "source": [
    "te=Image.open('./test/3.jpg')\n",
    "te.convert('L')\n",
    "print(np.array(te))"
   ]
  },
  {
   "cell_type": "code",
   "execution_count": 216,
   "metadata": {},
   "outputs": [
    {
     "data": {
      "text/plain": [
       "(-0.5, 108.5, 40.5, -0.5)"
      ]
     },
     "execution_count": 216,
     "metadata": {},
     "output_type": "execute_result"
    },
    {
     "data": {
      "image/png": "[encoded data removed]",
      "text/plain": [
       "<Figure size 432x288 with 1 Axes>"
      ]
     },
     "metadata": {
      "image/png": {
       "height": 169,
       "width": 349
      },
      "needs_background": "light"
     },
     "output_type": "display_data"
    }
   ],
   "source": [
    "import cv2\n",
    "a=cv2.imread('./test/6.jpg')\n",
    "a=cv2.resize(a,(109,41))\n",
    "a=a.reshape((1,41,109,3))\n",
    "a=a/255\n",
    "plt.imshow(a[0])\n",
    "re = model.predict(a)\n",
    "plt.title('real: %s\\npred:%s'%('11111', decode(re)))\n",
    "# plt.imshow(a[0], cmap='gray')\n",
    "plt.axis('off')"
   ]
  },
  {
   "cell_type": "code",
   "execution_count": null,
   "metadata": {},
   "outputs": [],
   "source": [
    "def show_img(img):\n",
    "    "
   ]
  },
  {
   "cell_type": "code",
   "execution_count": 105,
   "metadata": {},
   "outputs": [
    {
     "data": {
      "text/plain": [
       "array([[1, 2, 3],\n",
       "       [1, 1, 2]])"
      ]
     },
     "execution_count": 105,
     "metadata": {},
     "output_type": "execute_result"
    }
   ],
   "source": [
    "a=np.array([[1,2,3],[4,5,6]])\n",
    "a[1:]=a[1:]/3\n",
    "a"
   ]
  }
 ],
 "metadata": {
  "kernelspec": {
   "display_name": "Python 3.8.2 64-bit",
   "language": "python",
   "name": "python38264bita528056cac864381a9dec65b6a86093a"
  },
  "language_info": {
   "codemirror_mode": {
    "name": "ipython",
    "version": 3
   },
   "file_extension": ".py",
   "mimetype": "text/x-python",
   "name": "python",
   "nbconvert_exporter": "python",
   "pygments_lexer": "ipython3",
   "version": "3.8.2-final"
  }
 },
 "nbformat": 4,
 "nbformat_minor": 2
}